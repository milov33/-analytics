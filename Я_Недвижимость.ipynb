{
  "nbformat": 4,
  "nbformat_minor": 0,
  "metadata": {
    "colab": {
      "provenance": [],
      "collapsed_sections": [
        "vX6EW1jjxOnm",
        "6FuCf8QjrJ9W",
        "wneBRcZrk2CS",
        "E5tnsxKBH1cL",
        "ldlBuhEMAPVf",
        "AfNE2yVyl5rv",
        "pydXJUOribK0",
        "GU58QW6byh9t"
      ],
      "toc_visible": true
    },
    "kernelspec": {
      "name": "python3",
      "display_name": "Python 3"
    },
    "language_info": {
      "name": "python"
    }
  },
  "cells": [
    {
      "cell_type": "markdown",
      "source": [
        "# Шаг 1. Общая информация"
      ],
      "metadata": {
        "id": "vX6EW1jjxOnm"
      }
    },
    {
      "cell_type": "code",
      "source": [
        "# Импортируем необходимые библиотеки \n",
        "import pandas as pd\n",
        "import matplotlib.pyplot as plt\n",
        "import warnings\n",
        "warnings.filterwarnings('ignore')\n",
        "pd.set_option('display.max_columns', None)"
      ],
      "metadata": {
        "id": "Bq6zda1EyE0U"
      },
      "execution_count": 196,
      "outputs": []
    },
    {
      "cell_type": "code",
      "source": [
        "# Загружаем данные из файла в датафрейм\n",
        "try:\n",
        "  data = pd.read_csv('/content/real_estate_data.csv', sep='\\t')\n",
        "except:\n",
        "  data = pd.read_csv('/datasets/real_estate_data.csv', sep='\\t')\n"
      ],
      "metadata": {
        "id": "hHAxrcIxyfvM"
      },
      "execution_count": 197,
      "outputs": []
    },
    {
      "cell_type": "markdown",
      "source": [
        "## Изучим общую информацию о датафрейме"
      ],
      "metadata": {
        "id": "K_dqzLbArVXg"
      }
    },
    {
      "cell_type": "markdown",
      "source": [
        "Описание данных"
      ],
      "metadata": {
        "id": "BSJH_R_-0GgG"
      }
    },
    {
      "cell_type": "markdown",
      "source": [
        "> airports_nearest — расстояние до ближайшего аэропорта в метрах (м)\n",
        "\n",
        "> balcony — число балконов\n",
        "\n",
        ">  ceiling_height — высота потолков (м)\n",
        "\n",
        "> cityCenters_nearest — расстояние до центра города (м)\n",
        "\n",
        "> days_exposition — сколько дней было размещено объявление (от публикации до снятия)\n",
        "\n",
        "> first_day_exposition — дата публикации\n",
        "\n",
        "> floor — этаж\n",
        "\n",
        "> floors_total — всего этажей в доме\n",
        "\n",
        "> is_apartment — апартаменты (булев тип)\n",
        "\n",
        "> kitchen_area — площадь кухни в квадратных метрах (м²)\n",
        "\n",
        "> last_price — цена на момент снятия с публикации\n",
        "\n",
        "> living_area — жилая площадь в квадратных метрах (м²)\n",
        "\n",
        "> locality_name — название населённого пункта\n",
        "\n",
        "> open_plan — свободная планировка (булев тип)\n",
        "\n",
        "> parks_around3000 — число парков в радиусе 3 км\n",
        "\n",
        "> parks_nearest — расстояние до ближайшего парка (м)\n",
        "\n",
        "> ponds_around3000 — число водоёмов в радиусе 3 км\n",
        "\n",
        "> ponds_nearest — расстояние до ближайшего водоёма (м)\n",
        "\n",
        "> rooms — число комнат\n",
        "\n",
        "> studio — квартира-студия (булев тип)\n",
        "\n",
        "> total_area — общая площадь квартиры в квадратных метрах (м²)\n",
        "\n",
        "> total_images — число фотографий квартиры в объявлении\n"
      ],
      "metadata": {
        "id": "o3gJvbEq4nzH"
      }
    },
    {
      "cell_type": "code",
      "source": [
        "# Применим метод head() для отображения фрагмента датафрейма\n",
        "data.head(30)"
      ],
      "metadata": {
        "colab": {
          "base_uri": "https://localhost:8080/",
          "height": 0
        },
        "id": "YxswTQLpz7R-",
        "outputId": "493bb8d9-ec0e-4afc-d53a-ba42925a6f90"
      },
      "execution_count": 198,
      "outputs": [
        {
          "output_type": "execute_result",
          "data": {
            "text/plain": [
              "    total_images  last_price  total_area first_day_exposition  rooms  \\\n",
              "0             20  13000000.0      108.00  2019-03-07T00:00:00      3   \n",
              "1              7   3350000.0       40.40  2018-12-04T00:00:00      1   \n",
              "2             10   5196000.0       56.00  2015-08-20T00:00:00      2   \n",
              "3              0  64900000.0      159.00  2015-07-24T00:00:00      3   \n",
              "4              2  10000000.0      100.00  2018-06-19T00:00:00      2   \n",
              "5             10   2890000.0       30.40  2018-09-10T00:00:00      1   \n",
              "6              6   3700000.0       37.30  2017-11-02T00:00:00      1   \n",
              "7              5   7915000.0       71.60  2019-04-18T00:00:00      2   \n",
              "8             20   2900000.0       33.16  2018-05-23T00:00:00      1   \n",
              "9             18   5400000.0       61.00  2017-02-26T00:00:00      3   \n",
              "10             5   5050000.0       39.60  2017-11-16T00:00:00      1   \n",
              "11             9   3300000.0       44.00  2018-08-27T00:00:00      2   \n",
              "12            10   3890000.0       54.00  2016-06-30T00:00:00      2   \n",
              "13            20   3550000.0       42.80  2017-07-01T00:00:00      2   \n",
              "14             1   4400000.0       36.00  2016-06-23T00:00:00      1   \n",
              "15            16   4650000.0       39.00  2017-11-18T00:00:00      1   \n",
              "16            11   6700000.0       82.00  2017-11-23T00:00:00      3   \n",
              "17             6   4180000.0       36.00  2016-09-09T00:00:00      1   \n",
              "18             8   3250000.0       31.00  2017-01-27T00:00:00      1   \n",
              "19            16  14200000.0      121.00  2019-01-09T00:00:00      3   \n",
              "20            12   6120000.0       80.00  2017-09-28T00:00:00      3   \n",
              "21            13   3200000.0       31.60  2018-03-14T00:00:00      1   \n",
              "22            20   5000000.0       58.00  2017-04-24T00:00:00      2   \n",
              "23            11   2950000.0       32.00  2016-10-29T00:00:00      1   \n",
              "24             8   6500000.0       97.20  2015-10-31T00:00:00      2   \n",
              "25             3   6800000.0       76.00  2015-10-01T00:00:00      2   \n",
              "26             6   4050000.0       60.00  2017-04-28T00:00:00      4   \n",
              "27            20   7100000.0       70.00  2017-05-12T00:00:00      3   \n",
              "28             8   4170000.0       44.00  2017-12-13T00:00:00      1   \n",
              "29             9   8600000.0      100.00  2016-04-09T00:00:00      3   \n",
              "\n",
              "    ceiling_height  floors_total  living_area  floor is_apartment  studio  \\\n",
              "0             2.70          16.0        51.00      8          NaN   False   \n",
              "1              NaN          11.0        18.60      1          NaN   False   \n",
              "2              NaN           5.0        34.30      4          NaN   False   \n",
              "3              NaN          14.0          NaN      9          NaN   False   \n",
              "4             3.03          14.0        32.00     13          NaN   False   \n",
              "5              NaN          12.0        14.40      5          NaN   False   \n",
              "6              NaN          26.0        10.60      6          NaN   False   \n",
              "7              NaN          24.0          NaN     22          NaN   False   \n",
              "8              NaN          27.0        15.43     26          NaN   False   \n",
              "9             2.50           9.0        43.60      7          NaN   False   \n",
              "10            2.67          12.0        20.30      3          NaN   False   \n",
              "11             NaN           5.0        31.00      4        False   False   \n",
              "12             NaN           5.0        30.00      5          NaN   False   \n",
              "13            2.56           5.0        27.00      5          NaN   False   \n",
              "14             NaN           6.0        17.00      1          NaN   False   \n",
              "15             NaN          14.0        20.50      5          NaN   False   \n",
              "16            3.05           5.0        55.60      1          NaN   False   \n",
              "17             NaN          17.0        16.50      7          NaN   False   \n",
              "18            2.50           5.0        19.40      2          NaN   False   \n",
              "19            2.75          16.0        76.00      8          NaN   False   \n",
              "20            2.70          27.0        48.00     11          NaN   False   \n",
              "21             NaN           5.0        16.90      2          NaN   False   \n",
              "22            2.75          25.0        30.00     15          NaN   False   \n",
              "23            2.60           9.0        17.70      9          NaN   False   \n",
              "24             NaN           3.0        46.50      1          NaN   False   \n",
              "25            2.75          23.0        39.00     18        False   False   \n",
              "26             NaN           5.0        43.00      4          NaN   False   \n",
              "27            2.60          17.0        49.00     11          NaN   False   \n",
              "28            2.90           6.0        20.80      1          NaN   False   \n",
              "29             NaN          19.0        52.00     15        False   False   \n",
              "\n",
              "    open_plan  kitchen_area  balcony              locality_name  \\\n",
              "0       False         25.00      NaN            Санкт-Петербург   \n",
              "1       False         11.00      2.0             посёлок Шушары   \n",
              "2       False          8.30      0.0            Санкт-Петербург   \n",
              "3       False           NaN      0.0            Санкт-Петербург   \n",
              "4       False         41.00      NaN            Санкт-Петербург   \n",
              "5       False          9.10      NaN  городской посёлок Янино-1   \n",
              "6       False         14.40      1.0          посёлок Парголово   \n",
              "7       False         18.90      2.0            Санкт-Петербург   \n",
              "8       False          8.81      NaN             посёлок Мурино   \n",
              "9       False          6.50      2.0            Санкт-Петербург   \n",
              "10      False          8.50      NaN            Санкт-Петербург   \n",
              "11      False          6.00      1.0                  Ломоносов   \n",
              "12      False          9.00      0.0                  Сертолово   \n",
              "13      False          5.20      1.0                   Петергоф   \n",
              "14      False          8.00      0.0                     Пушкин   \n",
              "15      False          7.60      1.0            Санкт-Петербург   \n",
              "16      False          9.00      NaN            Санкт-Петербург   \n",
              "17      False         11.00      1.0            Санкт-Петербург   \n",
              "18      False          5.60      1.0            Санкт-Петербург   \n",
              "19      False         12.00      NaN            Санкт-Петербург   \n",
              "20      False         12.00      2.0          посёлок Парголово   \n",
              "21      False          5.70      1.0            Санкт-Петербург   \n",
              "22      False         11.00      2.0            деревня Кудрово   \n",
              "23      False          6.10      NaN            Санкт-Петербург   \n",
              "24      False         19.60      0.0            Санкт-Петербург   \n",
              "25      False         15.00      2.0            Санкт-Петербург   \n",
              "26      False          7.00      NaN            Санкт-Петербург   \n",
              "27      False          9.20      0.0            Санкт-Петербург   \n",
              "28      False         11.70      1.0                     Пушкин   \n",
              "29      False         11.00      0.0            Санкт-Петербург   \n",
              "\n",
              "    airports_nearest  cityCenters_nearest  parks_around3000  parks_nearest  \\\n",
              "0            18863.0              16028.0               1.0          482.0   \n",
              "1            12817.0              18603.0               0.0            NaN   \n",
              "2            21741.0              13933.0               1.0           90.0   \n",
              "3            28098.0               6800.0               2.0           84.0   \n",
              "4            31856.0               8098.0               2.0          112.0   \n",
              "5                NaN                  NaN               NaN            NaN   \n",
              "6            52996.0              19143.0               0.0            NaN   \n",
              "7            23982.0              11634.0               0.0            NaN   \n",
              "8                NaN                  NaN               NaN            NaN   \n",
              "9            50898.0              15008.0               0.0            NaN   \n",
              "10           38357.0              13878.0               1.0          310.0   \n",
              "11           48252.0              51677.0               0.0            NaN   \n",
              "12               NaN                  NaN               NaN            NaN   \n",
              "13           37868.0              33058.0               1.0          294.0   \n",
              "14           20782.0              30759.0               0.0            NaN   \n",
              "15           12900.0              14259.0               1.0          590.0   \n",
              "16           22108.0              10698.0               3.0          420.0   \n",
              "17           33564.0              14616.0               0.0            NaN   \n",
              "18           44060.0              10842.0               1.0          759.0   \n",
              "19           38900.0              12843.0               0.0            NaN   \n",
              "20           53134.0              19311.0               0.0            NaN   \n",
              "21           36064.0               9722.0               1.0          248.0   \n",
              "22               NaN                  NaN               NaN            NaN   \n",
              "23           15414.0              14211.0               2.0          517.0   \n",
              "24           20052.0               2336.0               3.0          411.0   \n",
              "25           34967.0              14640.0               0.0            NaN   \n",
              "26           11580.0              10510.0               0.0            NaN   \n",
              "27           29197.0              11456.0               2.0          452.0   \n",
              "28           18557.0              30710.0               0.0            NaN   \n",
              "29           30394.0              11526.0               1.0          532.0   \n",
              "\n",
              "    ponds_around3000  ponds_nearest  days_exposition  \n",
              "0                2.0          755.0              NaN  \n",
              "1                0.0            NaN             81.0  \n",
              "2                2.0          574.0            558.0  \n",
              "3                3.0          234.0            424.0  \n",
              "4                1.0           48.0            121.0  \n",
              "5                NaN            NaN             55.0  \n",
              "6                0.0            NaN            155.0  \n",
              "7                0.0            NaN              NaN  \n",
              "8                NaN            NaN            189.0  \n",
              "9                0.0            NaN            289.0  \n",
              "10               2.0          553.0            137.0  \n",
              "11               0.0            NaN              7.0  \n",
              "12               NaN            NaN             90.0  \n",
              "13               3.0          298.0            366.0  \n",
              "14               1.0           96.0            203.0  \n",
              "15               1.0          296.0             19.0  \n",
              "16               0.0            NaN            397.0  \n",
              "17               1.0          859.0            571.0  \n",
              "18               0.0            NaN            168.0  \n",
              "19               0.0            NaN             97.0  \n",
              "20               0.0            NaN             74.0  \n",
              "21               0.0            NaN            310.0  \n",
              "22               NaN            NaN             60.0  \n",
              "23               1.0          190.0            615.0  \n",
              "24               3.0          124.0            265.0  \n",
              "25               1.0          564.0            300.0  \n",
              "26               1.0           95.0            265.0  \n",
              "27               1.0          779.0            151.0  \n",
              "28               1.0          118.0             74.0  \n",
              "29               1.0          896.0            125.0  "
            ],
            "text/html": [
              "\n",
              "  <div id=\"df-e745bf4c-8154-4d25-a699-6a2e6ec70076\">\n",
              "    <div class=\"colab-df-container\">\n",
              "      <div>\n",
              "<style scoped>\n",
              "    .dataframe tbody tr th:only-of-type {\n",
              "        vertical-align: middle;\n",
              "    }\n",
              "\n",
              "    .dataframe tbody tr th {\n",
              "        vertical-align: top;\n",
              "    }\n",
              "\n",
              "    .dataframe thead th {\n",
              "        text-align: right;\n",
              "    }\n",
              "</style>\n",
              "<table border=\"1\" class=\"dataframe\">\n",
              "  <thead>\n",
              "    <tr style=\"text-align: right;\">\n",
              "      <th></th>\n",
              "      <th>total_images</th>\n",
              "      <th>last_price</th>\n",
              "      <th>total_area</th>\n",
              "      <th>first_day_exposition</th>\n",
              "      <th>rooms</th>\n",
              "      <th>ceiling_height</th>\n",
              "      <th>floors_total</th>\n",
              "      <th>living_area</th>\n",
              "      <th>floor</th>\n",
              "      <th>is_apartment</th>\n",
              "      <th>studio</th>\n",
              "      <th>open_plan</th>\n",
              "      <th>kitchen_area</th>\n",
              "      <th>balcony</th>\n",
              "      <th>locality_name</th>\n",
              "      <th>airports_nearest</th>\n",
              "      <th>cityCenters_nearest</th>\n",
              "      <th>parks_around3000</th>\n",
              "      <th>parks_nearest</th>\n",
              "      <th>ponds_around3000</th>\n",
              "      <th>ponds_nearest</th>\n",
              "      <th>days_exposition</th>\n",
              "    </tr>\n",
              "  </thead>\n",
              "  <tbody>\n",
              "    <tr>\n",
              "      <th>0</th>\n",
              "      <td>20</td>\n",
              "      <td>13000000.0</td>\n",
              "      <td>108.00</td>\n",
              "      <td>2019-03-07T00:00:00</td>\n",
              "      <td>3</td>\n",
              "      <td>2.70</td>\n",
              "      <td>16.0</td>\n",
              "      <td>51.00</td>\n",
              "      <td>8</td>\n",
              "      <td>NaN</td>\n",
              "      <td>False</td>\n",
              "      <td>False</td>\n",
              "      <td>25.00</td>\n",
              "      <td>NaN</td>\n",
              "      <td>Санкт-Петербург</td>\n",
              "      <td>18863.0</td>\n",
              "      <td>16028.0</td>\n",
              "      <td>1.0</td>\n",
              "      <td>482.0</td>\n",
              "      <td>2.0</td>\n",
              "      <td>755.0</td>\n",
              "      <td>NaN</td>\n",
              "    </tr>\n",
              "    <tr>\n",
              "      <th>1</th>\n",
              "      <td>7</td>\n",
              "      <td>3350000.0</td>\n",
              "      <td>40.40</td>\n",
              "      <td>2018-12-04T00:00:00</td>\n",
              "      <td>1</td>\n",
              "      <td>NaN</td>\n",
              "      <td>11.0</td>\n",
              "      <td>18.60</td>\n",
              "      <td>1</td>\n",
              "      <td>NaN</td>\n",
              "      <td>False</td>\n",
              "      <td>False</td>\n",
              "      <td>11.00</td>\n",
              "      <td>2.0</td>\n",
              "      <td>посёлок Шушары</td>\n",
              "      <td>12817.0</td>\n",
              "      <td>18603.0</td>\n",
              "      <td>0.0</td>\n",
              "      <td>NaN</td>\n",
              "      <td>0.0</td>\n",
              "      <td>NaN</td>\n",
              "      <td>81.0</td>\n",
              "    </tr>\n",
              "    <tr>\n",
              "      <th>2</th>\n",
              "      <td>10</td>\n",
              "      <td>5196000.0</td>\n",
              "      <td>56.00</td>\n",
              "      <td>2015-08-20T00:00:00</td>\n",
              "      <td>2</td>\n",
              "      <td>NaN</td>\n",
              "      <td>5.0</td>\n",
              "      <td>34.30</td>\n",
              "      <td>4</td>\n",
              "      <td>NaN</td>\n",
              "      <td>False</td>\n",
              "      <td>False</td>\n",
              "      <td>8.30</td>\n",
              "      <td>0.0</td>\n",
              "      <td>Санкт-Петербург</td>\n",
              "      <td>21741.0</td>\n",
              "      <td>13933.0</td>\n",
              "      <td>1.0</td>\n",
              "      <td>90.0</td>\n",
              "      <td>2.0</td>\n",
              "      <td>574.0</td>\n",
              "      <td>558.0</td>\n",
              "    </tr>\n",
              "    <tr>\n",
              "      <th>3</th>\n",
              "      <td>0</td>\n",
              "      <td>64900000.0</td>\n",
              "      <td>159.00</td>\n",
              "      <td>2015-07-24T00:00:00</td>\n",
              "      <td>3</td>\n",
              "      <td>NaN</td>\n",
              "      <td>14.0</td>\n",
              "      <td>NaN</td>\n",
              "      <td>9</td>\n",
              "      <td>NaN</td>\n",
              "      <td>False</td>\n",
              "      <td>False</td>\n",
              "      <td>NaN</td>\n",
              "      <td>0.0</td>\n",
              "      <td>Санкт-Петербург</td>\n",
              "      <td>28098.0</td>\n",
              "      <td>6800.0</td>\n",
              "      <td>2.0</td>\n",
              "      <td>84.0</td>\n",
              "      <td>3.0</td>\n",
              "      <td>234.0</td>\n",
              "      <td>424.0</td>\n",
              "    </tr>\n",
              "    <tr>\n",
              "      <th>4</th>\n",
              "      <td>2</td>\n",
              "      <td>10000000.0</td>\n",
              "      <td>100.00</td>\n",
              "      <td>2018-06-19T00:00:00</td>\n",
              "      <td>2</td>\n",
              "      <td>3.03</td>\n",
              "      <td>14.0</td>\n",
              "      <td>32.00</td>\n",
              "      <td>13</td>\n",
              "      <td>NaN</td>\n",
              "      <td>False</td>\n",
              "      <td>False</td>\n",
              "      <td>41.00</td>\n",
              "      <td>NaN</td>\n",
              "      <td>Санкт-Петербург</td>\n",
              "      <td>31856.0</td>\n",
              "      <td>8098.0</td>\n",
              "      <td>2.0</td>\n",
              "      <td>112.0</td>\n",
              "      <td>1.0</td>\n",
              "      <td>48.0</td>\n",
              "      <td>121.0</td>\n",
              "    </tr>\n",
              "    <tr>\n",
              "      <th>5</th>\n",
              "      <td>10</td>\n",
              "      <td>2890000.0</td>\n",
              "      <td>30.40</td>\n",
              "      <td>2018-09-10T00:00:00</td>\n",
              "      <td>1</td>\n",
              "      <td>NaN</td>\n",
              "      <td>12.0</td>\n",
              "      <td>14.40</td>\n",
              "      <td>5</td>\n",
              "      <td>NaN</td>\n",
              "      <td>False</td>\n",
              "      <td>False</td>\n",
              "      <td>9.10</td>\n",
              "      <td>NaN</td>\n",
              "      <td>городской посёлок Янино-1</td>\n",
              "      <td>NaN</td>\n",
              "      <td>NaN</td>\n",
              "      <td>NaN</td>\n",
              "      <td>NaN</td>\n",
              "      <td>NaN</td>\n",
              "      <td>NaN</td>\n",
              "      <td>55.0</td>\n",
              "    </tr>\n",
              "    <tr>\n",
              "      <th>6</th>\n",
              "      <td>6</td>\n",
              "      <td>3700000.0</td>\n",
              "      <td>37.30</td>\n",
              "      <td>2017-11-02T00:00:00</td>\n",
              "      <td>1</td>\n",
              "      <td>NaN</td>\n",
              "      <td>26.0</td>\n",
              "      <td>10.60</td>\n",
              "      <td>6</td>\n",
              "      <td>NaN</td>\n",
              "      <td>False</td>\n",
              "      <td>False</td>\n",
              "      <td>14.40</td>\n",
              "      <td>1.0</td>\n",
              "      <td>посёлок Парголово</td>\n",
              "      <td>52996.0</td>\n",
              "      <td>19143.0</td>\n",
              "      <td>0.0</td>\n",
              "      <td>NaN</td>\n",
              "      <td>0.0</td>\n",
              "      <td>NaN</td>\n",
              "      <td>155.0</td>\n",
              "    </tr>\n",
              "    <tr>\n",
              "      <th>7</th>\n",
              "      <td>5</td>\n",
              "      <td>7915000.0</td>\n",
              "      <td>71.60</td>\n",
              "      <td>2019-04-18T00:00:00</td>\n",
              "      <td>2</td>\n",
              "      <td>NaN</td>\n",
              "      <td>24.0</td>\n",
              "      <td>NaN</td>\n",
              "      <td>22</td>\n",
              "      <td>NaN</td>\n",
              "      <td>False</td>\n",
              "      <td>False</td>\n",
              "      <td>18.90</td>\n",
              "      <td>2.0</td>\n",
              "      <td>Санкт-Петербург</td>\n",
              "      <td>23982.0</td>\n",
              "      <td>11634.0</td>\n",
              "      <td>0.0</td>\n",
              "      <td>NaN</td>\n",
              "      <td>0.0</td>\n",
              "      <td>NaN</td>\n",
              "      <td>NaN</td>\n",
              "    </tr>\n",
              "    <tr>\n",
              "      <th>8</th>\n",
              "      <td>20</td>\n",
              "      <td>2900000.0</td>\n",
              "      <td>33.16</td>\n",
              "      <td>2018-05-23T00:00:00</td>\n",
              "      <td>1</td>\n",
              "      <td>NaN</td>\n",
              "      <td>27.0</td>\n",
              "      <td>15.43</td>\n",
              "      <td>26</td>\n",
              "      <td>NaN</td>\n",
              "      <td>False</td>\n",
              "      <td>False</td>\n",
              "      <td>8.81</td>\n",
              "      <td>NaN</td>\n",
              "      <td>посёлок Мурино</td>\n",
              "      <td>NaN</td>\n",
              "      <td>NaN</td>\n",
              "      <td>NaN</td>\n",
              "      <td>NaN</td>\n",
              "      <td>NaN</td>\n",
              "      <td>NaN</td>\n",
              "      <td>189.0</td>\n",
              "    </tr>\n",
              "    <tr>\n",
              "      <th>9</th>\n",
              "      <td>18</td>\n",
              "      <td>5400000.0</td>\n",
              "      <td>61.00</td>\n",
              "      <td>2017-02-26T00:00:00</td>\n",
              "      <td>3</td>\n",
              "      <td>2.50</td>\n",
              "      <td>9.0</td>\n",
              "      <td>43.60</td>\n",
              "      <td>7</td>\n",
              "      <td>NaN</td>\n",
              "      <td>False</td>\n",
              "      <td>False</td>\n",
              "      <td>6.50</td>\n",
              "      <td>2.0</td>\n",
              "      <td>Санкт-Петербург</td>\n",
              "      <td>50898.0</td>\n",
              "      <td>15008.0</td>\n",
              "      <td>0.0</td>\n",
              "      <td>NaN</td>\n",
              "      <td>0.0</td>\n",
              "      <td>NaN</td>\n",
              "      <td>289.0</td>\n",
              "    </tr>\n",
              "    <tr>\n",
              "      <th>10</th>\n",
              "      <td>5</td>\n",
              "      <td>5050000.0</td>\n",
              "      <td>39.60</td>\n",
              "      <td>2017-11-16T00:00:00</td>\n",
              "      <td>1</td>\n",
              "      <td>2.67</td>\n",
              "      <td>12.0</td>\n",
              "      <td>20.30</td>\n",
              "      <td>3</td>\n",
              "      <td>NaN</td>\n",
              "      <td>False</td>\n",
              "      <td>False</td>\n",
              "      <td>8.50</td>\n",
              "      <td>NaN</td>\n",
              "      <td>Санкт-Петербург</td>\n",
              "      <td>38357.0</td>\n",
              "      <td>13878.0</td>\n",
              "      <td>1.0</td>\n",
              "      <td>310.0</td>\n",
              "      <td>2.0</td>\n",
              "      <td>553.0</td>\n",
              "      <td>137.0</td>\n",
              "    </tr>\n",
              "    <tr>\n",
              "      <th>11</th>\n",
              "      <td>9</td>\n",
              "      <td>3300000.0</td>\n",
              "      <td>44.00</td>\n",
              "      <td>2018-08-27T00:00:00</td>\n",
              "      <td>2</td>\n",
              "      <td>NaN</td>\n",
              "      <td>5.0</td>\n",
              "      <td>31.00</td>\n",
              "      <td>4</td>\n",
              "      <td>False</td>\n",
              "      <td>False</td>\n",
              "      <td>False</td>\n",
              "      <td>6.00</td>\n",
              "      <td>1.0</td>\n",
              "      <td>Ломоносов</td>\n",
              "      <td>48252.0</td>\n",
              "      <td>51677.0</td>\n",
              "      <td>0.0</td>\n",
              "      <td>NaN</td>\n",
              "      <td>0.0</td>\n",
              "      <td>NaN</td>\n",
              "      <td>7.0</td>\n",
              "    </tr>\n",
              "    <tr>\n",
              "      <th>12</th>\n",
              "      <td>10</td>\n",
              "      <td>3890000.0</td>\n",
              "      <td>54.00</td>\n",
              "      <td>2016-06-30T00:00:00</td>\n",
              "      <td>2</td>\n",
              "      <td>NaN</td>\n",
              "      <td>5.0</td>\n",
              "      <td>30.00</td>\n",
              "      <td>5</td>\n",
              "      <td>NaN</td>\n",
              "      <td>False</td>\n",
              "      <td>False</td>\n",
              "      <td>9.00</td>\n",
              "      <td>0.0</td>\n",
              "      <td>Сертолово</td>\n",
              "      <td>NaN</td>\n",
              "      <td>NaN</td>\n",
              "      <td>NaN</td>\n",
              "      <td>NaN</td>\n",
              "      <td>NaN</td>\n",
              "      <td>NaN</td>\n",
              "      <td>90.0</td>\n",
              "    </tr>\n",
              "    <tr>\n",
              "      <th>13</th>\n",
              "      <td>20</td>\n",
              "      <td>3550000.0</td>\n",
              "      <td>42.80</td>\n",
              "      <td>2017-07-01T00:00:00</td>\n",
              "      <td>2</td>\n",
              "      <td>2.56</td>\n",
              "      <td>5.0</td>\n",
              "      <td>27.00</td>\n",
              "      <td>5</td>\n",
              "      <td>NaN</td>\n",
              "      <td>False</td>\n",
              "      <td>False</td>\n",
              "      <td>5.20</td>\n",
              "      <td>1.0</td>\n",
              "      <td>Петергоф</td>\n",
              "      <td>37868.0</td>\n",
              "      <td>33058.0</td>\n",
              "      <td>1.0</td>\n",
              "      <td>294.0</td>\n",
              "      <td>3.0</td>\n",
              "      <td>298.0</td>\n",
              "      <td>366.0</td>\n",
              "    </tr>\n",
              "    <tr>\n",
              "      <th>14</th>\n",
              "      <td>1</td>\n",
              "      <td>4400000.0</td>\n",
              "      <td>36.00</td>\n",
              "      <td>2016-06-23T00:00:00</td>\n",
              "      <td>1</td>\n",
              "      <td>NaN</td>\n",
              "      <td>6.0</td>\n",
              "      <td>17.00</td>\n",
              "      <td>1</td>\n",
              "      <td>NaN</td>\n",
              "      <td>False</td>\n",
              "      <td>False</td>\n",
              "      <td>8.00</td>\n",
              "      <td>0.0</td>\n",
              "      <td>Пушкин</td>\n",
              "      <td>20782.0</td>\n",
              "      <td>30759.0</td>\n",
              "      <td>0.0</td>\n",
              "      <td>NaN</td>\n",
              "      <td>1.0</td>\n",
              "      <td>96.0</td>\n",
              "      <td>203.0</td>\n",
              "    </tr>\n",
              "    <tr>\n",
              "      <th>15</th>\n",
              "      <td>16</td>\n",
              "      <td>4650000.0</td>\n",
              "      <td>39.00</td>\n",
              "      <td>2017-11-18T00:00:00</td>\n",
              "      <td>1</td>\n",
              "      <td>NaN</td>\n",
              "      <td>14.0</td>\n",
              "      <td>20.50</td>\n",
              "      <td>5</td>\n",
              "      <td>NaN</td>\n",
              "      <td>False</td>\n",
              "      <td>False</td>\n",
              "      <td>7.60</td>\n",
              "      <td>1.0</td>\n",
              "      <td>Санкт-Петербург</td>\n",
              "      <td>12900.0</td>\n",
              "      <td>14259.0</td>\n",
              "      <td>1.0</td>\n",
              "      <td>590.0</td>\n",
              "      <td>1.0</td>\n",
              "      <td>296.0</td>\n",
              "      <td>19.0</td>\n",
              "    </tr>\n",
              "    <tr>\n",
              "      <th>16</th>\n",
              "      <td>11</td>\n",
              "      <td>6700000.0</td>\n",
              "      <td>82.00</td>\n",
              "      <td>2017-11-23T00:00:00</td>\n",
              "      <td>3</td>\n",
              "      <td>3.05</td>\n",
              "      <td>5.0</td>\n",
              "      <td>55.60</td>\n",
              "      <td>1</td>\n",
              "      <td>NaN</td>\n",
              "      <td>False</td>\n",
              "      <td>False</td>\n",
              "      <td>9.00</td>\n",
              "      <td>NaN</td>\n",
              "      <td>Санкт-Петербург</td>\n",
              "      <td>22108.0</td>\n",
              "      <td>10698.0</td>\n",
              "      <td>3.0</td>\n",
              "      <td>420.0</td>\n",
              "      <td>0.0</td>\n",
              "      <td>NaN</td>\n",
              "      <td>397.0</td>\n",
              "    </tr>\n",
              "    <tr>\n",
              "      <th>17</th>\n",
              "      <td>6</td>\n",
              "      <td>4180000.0</td>\n",
              "      <td>36.00</td>\n",
              "      <td>2016-09-09T00:00:00</td>\n",
              "      <td>1</td>\n",
              "      <td>NaN</td>\n",
              "      <td>17.0</td>\n",
              "      <td>16.50</td>\n",
              "      <td>7</td>\n",
              "      <td>NaN</td>\n",
              "      <td>False</td>\n",
              "      <td>False</td>\n",
              "      <td>11.00</td>\n",
              "      <td>1.0</td>\n",
              "      <td>Санкт-Петербург</td>\n",
              "      <td>33564.0</td>\n",
              "      <td>14616.0</td>\n",
              "      <td>0.0</td>\n",
              "      <td>NaN</td>\n",
              "      <td>1.0</td>\n",
              "      <td>859.0</td>\n",
              "      <td>571.0</td>\n",
              "    </tr>\n",
              "    <tr>\n",
              "      <th>18</th>\n",
              "      <td>8</td>\n",
              "      <td>3250000.0</td>\n",
              "      <td>31.00</td>\n",
              "      <td>2017-01-27T00:00:00</td>\n",
              "      <td>1</td>\n",
              "      <td>2.50</td>\n",
              "      <td>5.0</td>\n",
              "      <td>19.40</td>\n",
              "      <td>2</td>\n",
              "      <td>NaN</td>\n",
              "      <td>False</td>\n",
              "      <td>False</td>\n",
              "      <td>5.60</td>\n",
              "      <td>1.0</td>\n",
              "      <td>Санкт-Петербург</td>\n",
              "      <td>44060.0</td>\n",
              "      <td>10842.0</td>\n",
              "      <td>1.0</td>\n",
              "      <td>759.0</td>\n",
              "      <td>0.0</td>\n",
              "      <td>NaN</td>\n",
              "      <td>168.0</td>\n",
              "    </tr>\n",
              "    <tr>\n",
              "      <th>19</th>\n",
              "      <td>16</td>\n",
              "      <td>14200000.0</td>\n",
              "      <td>121.00</td>\n",
              "      <td>2019-01-09T00:00:00</td>\n",
              "      <td>3</td>\n",
              "      <td>2.75</td>\n",
              "      <td>16.0</td>\n",
              "      <td>76.00</td>\n",
              "      <td>8</td>\n",
              "      <td>NaN</td>\n",
              "      <td>False</td>\n",
              "      <td>False</td>\n",
              "      <td>12.00</td>\n",
              "      <td>NaN</td>\n",
              "      <td>Санкт-Петербург</td>\n",
              "      <td>38900.0</td>\n",
              "      <td>12843.0</td>\n",
              "      <td>0.0</td>\n",
              "      <td>NaN</td>\n",
              "      <td>0.0</td>\n",
              "      <td>NaN</td>\n",
              "      <td>97.0</td>\n",
              "    </tr>\n",
              "    <tr>\n",
              "      <th>20</th>\n",
              "      <td>12</td>\n",
              "      <td>6120000.0</td>\n",
              "      <td>80.00</td>\n",
              "      <td>2017-09-28T00:00:00</td>\n",
              "      <td>3</td>\n",
              "      <td>2.70</td>\n",
              "      <td>27.0</td>\n",
              "      <td>48.00</td>\n",
              "      <td>11</td>\n",
              "      <td>NaN</td>\n",
              "      <td>False</td>\n",
              "      <td>False</td>\n",
              "      <td>12.00</td>\n",
              "      <td>2.0</td>\n",
              "      <td>посёлок Парголово</td>\n",
              "      <td>53134.0</td>\n",
              "      <td>19311.0</td>\n",
              "      <td>0.0</td>\n",
              "      <td>NaN</td>\n",
              "      <td>0.0</td>\n",
              "      <td>NaN</td>\n",
              "      <td>74.0</td>\n",
              "    </tr>\n",
              "    <tr>\n",
              "      <th>21</th>\n",
              "      <td>13</td>\n",
              "      <td>3200000.0</td>\n",
              "      <td>31.60</td>\n",
              "      <td>2018-03-14T00:00:00</td>\n",
              "      <td>1</td>\n",
              "      <td>NaN</td>\n",
              "      <td>5.0</td>\n",
              "      <td>16.90</td>\n",
              "      <td>2</td>\n",
              "      <td>NaN</td>\n",
              "      <td>False</td>\n",
              "      <td>False</td>\n",
              "      <td>5.70</td>\n",
              "      <td>1.0</td>\n",
              "      <td>Санкт-Петербург</td>\n",
              "      <td>36064.0</td>\n",
              "      <td>9722.0</td>\n",
              "      <td>1.0</td>\n",
              "      <td>248.0</td>\n",
              "      <td>0.0</td>\n",
              "      <td>NaN</td>\n",
              "      <td>310.0</td>\n",
              "    </tr>\n",
              "    <tr>\n",
              "      <th>22</th>\n",
              "      <td>20</td>\n",
              "      <td>5000000.0</td>\n",
              "      <td>58.00</td>\n",
              "      <td>2017-04-24T00:00:00</td>\n",
              "      <td>2</td>\n",
              "      <td>2.75</td>\n",
              "      <td>25.0</td>\n",
              "      <td>30.00</td>\n",
              "      <td>15</td>\n",
              "      <td>NaN</td>\n",
              "      <td>False</td>\n",
              "      <td>False</td>\n",
              "      <td>11.00</td>\n",
              "      <td>2.0</td>\n",
              "      <td>деревня Кудрово</td>\n",
              "      <td>NaN</td>\n",
              "      <td>NaN</td>\n",
              "      <td>NaN</td>\n",
              "      <td>NaN</td>\n",
              "      <td>NaN</td>\n",
              "      <td>NaN</td>\n",
              "      <td>60.0</td>\n",
              "    </tr>\n",
              "    <tr>\n",
              "      <th>23</th>\n",
              "      <td>11</td>\n",
              "      <td>2950000.0</td>\n",
              "      <td>32.00</td>\n",
              "      <td>2016-10-29T00:00:00</td>\n",
              "      <td>1</td>\n",
              "      <td>2.60</td>\n",
              "      <td>9.0</td>\n",
              "      <td>17.70</td>\n",
              "      <td>9</td>\n",
              "      <td>NaN</td>\n",
              "      <td>False</td>\n",
              "      <td>False</td>\n",
              "      <td>6.10</td>\n",
              "      <td>NaN</td>\n",
              "      <td>Санкт-Петербург</td>\n",
              "      <td>15414.0</td>\n",
              "      <td>14211.0</td>\n",
              "      <td>2.0</td>\n",
              "      <td>517.0</td>\n",
              "      <td>1.0</td>\n",
              "      <td>190.0</td>\n",
              "      <td>615.0</td>\n",
              "    </tr>\n",
              "    <tr>\n",
              "      <th>24</th>\n",
              "      <td>8</td>\n",
              "      <td>6500000.0</td>\n",
              "      <td>97.20</td>\n",
              "      <td>2015-10-31T00:00:00</td>\n",
              "      <td>2</td>\n",
              "      <td>NaN</td>\n",
              "      <td>3.0</td>\n",
              "      <td>46.50</td>\n",
              "      <td>1</td>\n",
              "      <td>NaN</td>\n",
              "      <td>False</td>\n",
              "      <td>False</td>\n",
              "      <td>19.60</td>\n",
              "      <td>0.0</td>\n",
              "      <td>Санкт-Петербург</td>\n",
              "      <td>20052.0</td>\n",
              "      <td>2336.0</td>\n",
              "      <td>3.0</td>\n",
              "      <td>411.0</td>\n",
              "      <td>3.0</td>\n",
              "      <td>124.0</td>\n",
              "      <td>265.0</td>\n",
              "    </tr>\n",
              "    <tr>\n",
              "      <th>25</th>\n",
              "      <td>3</td>\n",
              "      <td>6800000.0</td>\n",
              "      <td>76.00</td>\n",
              "      <td>2015-10-01T00:00:00</td>\n",
              "      <td>2</td>\n",
              "      <td>2.75</td>\n",
              "      <td>23.0</td>\n",
              "      <td>39.00</td>\n",
              "      <td>18</td>\n",
              "      <td>False</td>\n",
              "      <td>False</td>\n",
              "      <td>False</td>\n",
              "      <td>15.00</td>\n",
              "      <td>2.0</td>\n",
              "      <td>Санкт-Петербург</td>\n",
              "      <td>34967.0</td>\n",
              "      <td>14640.0</td>\n",
              "      <td>0.0</td>\n",
              "      <td>NaN</td>\n",
              "      <td>1.0</td>\n",
              "      <td>564.0</td>\n",
              "      <td>300.0</td>\n",
              "    </tr>\n",
              "    <tr>\n",
              "      <th>26</th>\n",
              "      <td>6</td>\n",
              "      <td>4050000.0</td>\n",
              "      <td>60.00</td>\n",
              "      <td>2017-04-28T00:00:00</td>\n",
              "      <td>4</td>\n",
              "      <td>NaN</td>\n",
              "      <td>5.0</td>\n",
              "      <td>43.00</td>\n",
              "      <td>4</td>\n",
              "      <td>NaN</td>\n",
              "      <td>False</td>\n",
              "      <td>False</td>\n",
              "      <td>7.00</td>\n",
              "      <td>NaN</td>\n",
              "      <td>Санкт-Петербург</td>\n",
              "      <td>11580.0</td>\n",
              "      <td>10510.0</td>\n",
              "      <td>0.0</td>\n",
              "      <td>NaN</td>\n",
              "      <td>1.0</td>\n",
              "      <td>95.0</td>\n",
              "      <td>265.0</td>\n",
              "    </tr>\n",
              "    <tr>\n",
              "      <th>27</th>\n",
              "      <td>20</td>\n",
              "      <td>7100000.0</td>\n",
              "      <td>70.00</td>\n",
              "      <td>2017-05-12T00:00:00</td>\n",
              "      <td>3</td>\n",
              "      <td>2.60</td>\n",
              "      <td>17.0</td>\n",
              "      <td>49.00</td>\n",
              "      <td>11</td>\n",
              "      <td>NaN</td>\n",
              "      <td>False</td>\n",
              "      <td>False</td>\n",
              "      <td>9.20</td>\n",
              "      <td>0.0</td>\n",
              "      <td>Санкт-Петербург</td>\n",
              "      <td>29197.0</td>\n",
              "      <td>11456.0</td>\n",
              "      <td>2.0</td>\n",
              "      <td>452.0</td>\n",
              "      <td>1.0</td>\n",
              "      <td>779.0</td>\n",
              "      <td>151.0</td>\n",
              "    </tr>\n",
              "    <tr>\n",
              "      <th>28</th>\n",
              "      <td>8</td>\n",
              "      <td>4170000.0</td>\n",
              "      <td>44.00</td>\n",
              "      <td>2017-12-13T00:00:00</td>\n",
              "      <td>1</td>\n",
              "      <td>2.90</td>\n",
              "      <td>6.0</td>\n",
              "      <td>20.80</td>\n",
              "      <td>1</td>\n",
              "      <td>NaN</td>\n",
              "      <td>False</td>\n",
              "      <td>False</td>\n",
              "      <td>11.70</td>\n",
              "      <td>1.0</td>\n",
              "      <td>Пушкин</td>\n",
              "      <td>18557.0</td>\n",
              "      <td>30710.0</td>\n",
              "      <td>0.0</td>\n",
              "      <td>NaN</td>\n",
              "      <td>1.0</td>\n",
              "      <td>118.0</td>\n",
              "      <td>74.0</td>\n",
              "    </tr>\n",
              "    <tr>\n",
              "      <th>29</th>\n",
              "      <td>9</td>\n",
              "      <td>8600000.0</td>\n",
              "      <td>100.00</td>\n",
              "      <td>2016-04-09T00:00:00</td>\n",
              "      <td>3</td>\n",
              "      <td>NaN</td>\n",
              "      <td>19.0</td>\n",
              "      <td>52.00</td>\n",
              "      <td>15</td>\n",
              "      <td>False</td>\n",
              "      <td>False</td>\n",
              "      <td>False</td>\n",
              "      <td>11.00</td>\n",
              "      <td>0.0</td>\n",
              "      <td>Санкт-Петербург</td>\n",
              "      <td>30394.0</td>\n",
              "      <td>11526.0</td>\n",
              "      <td>1.0</td>\n",
              "      <td>532.0</td>\n",
              "      <td>1.0</td>\n",
              "      <td>896.0</td>\n",
              "      <td>125.0</td>\n",
              "    </tr>\n",
              "  </tbody>\n",
              "</table>\n",
              "</div>\n",
              "      <button class=\"colab-df-convert\" onclick=\"convertToInteractive('df-e745bf4c-8154-4d25-a699-6a2e6ec70076')\"\n",
              "              title=\"Convert this dataframe to an interactive table.\"\n",
              "              style=\"display:none;\">\n",
              "        \n",
              "  <svg xmlns=\"http://www.w3.org/2000/svg\" height=\"24px\"viewBox=\"0 0 24 24\"\n",
              "       width=\"24px\">\n",
              "    <path d=\"M0 0h24v24H0V0z\" fill=\"none\"/>\n",
              "    <path d=\"M18.56 5.44l.94 2.06.94-2.06 2.06-.94-2.06-.94-.94-2.06-.94 2.06-2.06.94zm-11 1L8.5 8.5l.94-2.06 2.06-.94-2.06-.94L8.5 2.5l-.94 2.06-2.06.94zm10 10l.94 2.06.94-2.06 2.06-.94-2.06-.94-.94-2.06-.94 2.06-2.06.94z\"/><path d=\"M17.41 7.96l-1.37-1.37c-.4-.4-.92-.59-1.43-.59-.52 0-1.04.2-1.43.59L10.3 9.45l-7.72 7.72c-.78.78-.78 2.05 0 2.83L4 21.41c.39.39.9.59 1.41.59.51 0 1.02-.2 1.41-.59l7.78-7.78 2.81-2.81c.8-.78.8-2.07 0-2.86zM5.41 20L4 18.59l7.72-7.72 1.47 1.35L5.41 20z\"/>\n",
              "  </svg>\n",
              "      </button>\n",
              "      \n",
              "  <style>\n",
              "    .colab-df-container {\n",
              "      display:flex;\n",
              "      flex-wrap:wrap;\n",
              "      gap: 12px;\n",
              "    }\n",
              "\n",
              "    .colab-df-convert {\n",
              "      background-color: #E8F0FE;\n",
              "      border: none;\n",
              "      border-radius: 50%;\n",
              "      cursor: pointer;\n",
              "      display: none;\n",
              "      fill: #1967D2;\n",
              "      height: 32px;\n",
              "      padding: 0 0 0 0;\n",
              "      width: 32px;\n",
              "    }\n",
              "\n",
              "    .colab-df-convert:hover {\n",
              "      background-color: #E2EBFA;\n",
              "      box-shadow: 0px 1px 2px rgba(60, 64, 67, 0.3), 0px 1px 3px 1px rgba(60, 64, 67, 0.15);\n",
              "      fill: #174EA6;\n",
              "    }\n",
              "\n",
              "    [theme=dark] .colab-df-convert {\n",
              "      background-color: #3B4455;\n",
              "      fill: #D2E3FC;\n",
              "    }\n",
              "\n",
              "    [theme=dark] .colab-df-convert:hover {\n",
              "      background-color: #434B5C;\n",
              "      box-shadow: 0px 1px 3px 1px rgba(0, 0, 0, 0.15);\n",
              "      filter: drop-shadow(0px 1px 2px rgba(0, 0, 0, 0.3));\n",
              "      fill: #FFFFFF;\n",
              "    }\n",
              "  </style>\n",
              "\n",
              "      <script>\n",
              "        const buttonEl =\n",
              "          document.querySelector('#df-e745bf4c-8154-4d25-a699-6a2e6ec70076 button.colab-df-convert');\n",
              "        buttonEl.style.display =\n",
              "          google.colab.kernel.accessAllowed ? 'block' : 'none';\n",
              "\n",
              "        async function convertToInteractive(key) {\n",
              "          const element = document.querySelector('#df-e745bf4c-8154-4d25-a699-6a2e6ec70076');\n",
              "          const dataTable =\n",
              "            await google.colab.kernel.invokeFunction('convertToInteractive',\n",
              "                                                     [key], {});\n",
              "          if (!dataTable) return;\n",
              "\n",
              "          const docLinkHtml = 'Like what you see? Visit the ' +\n",
              "            '<a target=\"_blank\" href=https://colab.research.google.com/notebooks/data_table.ipynb>data table notebook</a>'\n",
              "            + ' to learn more about interactive tables.';\n",
              "          element.innerHTML = '';\n",
              "          dataTable['output_type'] = 'display_data';\n",
              "          await google.colab.output.renderOutput(dataTable, element);\n",
              "          const docLink = document.createElement('div');\n",
              "          docLink.innerHTML = docLinkHtml;\n",
              "          element.appendChild(docLink);\n",
              "        }\n",
              "      </script>\n",
              "    </div>\n",
              "  </div>\n",
              "  "
            ]
          },
          "metadata": {},
          "execution_count": 198
        }
      ]
    },
    {
      "cell_type": "code",
      "source": [
        "# Применим метод info()\n",
        "data.info()"
      ],
      "metadata": {
        "colab": {
          "base_uri": "https://localhost:8080/"
        },
        "id": "M9EiB1tsSmjv",
        "outputId": "0cc3f029-b5f6-4972-8e84-2af521b23070"
      },
      "execution_count": 199,
      "outputs": [
        {
          "output_type": "stream",
          "name": "stdout",
          "text": [
            "<class 'pandas.core.frame.DataFrame'>\n",
            "RangeIndex: 23699 entries, 0 to 23698\n",
            "Data columns (total 22 columns):\n",
            " #   Column                Non-Null Count  Dtype  \n",
            "---  ------                --------------  -----  \n",
            " 0   total_images          23699 non-null  int64  \n",
            " 1   last_price            23699 non-null  float64\n",
            " 2   total_area            23699 non-null  float64\n",
            " 3   first_day_exposition  23699 non-null  object \n",
            " 4   rooms                 23699 non-null  int64  \n",
            " 5   ceiling_height        14504 non-null  float64\n",
            " 6   floors_total          23613 non-null  float64\n",
            " 7   living_area           21796 non-null  float64\n",
            " 8   floor                 23699 non-null  int64  \n",
            " 9   is_apartment          2775 non-null   object \n",
            " 10  studio                23699 non-null  bool   \n",
            " 11  open_plan             23699 non-null  bool   \n",
            " 12  kitchen_area          21421 non-null  float64\n",
            " 13  balcony               12180 non-null  float64\n",
            " 14  locality_name         23650 non-null  object \n",
            " 15  airports_nearest      18157 non-null  float64\n",
            " 16  cityCenters_nearest   18180 non-null  float64\n",
            " 17  parks_around3000      18181 non-null  float64\n",
            " 18  parks_nearest         8079 non-null   float64\n",
            " 19  ponds_around3000      18181 non-null  float64\n",
            " 20  ponds_nearest         9110 non-null   float64\n",
            " 21  days_exposition       20518 non-null  float64\n",
            "dtypes: bool(2), float64(14), int64(3), object(3)\n",
            "memory usage: 3.7+ MB\n"
          ]
        }
      ]
    },
    {
      "cell_type": "markdown",
      "source": [
        "  На начальном этапе мы имеем датафрейм из 23650 строк, 22 столбцов, 17 из которых содержат числовые значения, 3 столбца содержат булевые, 1 столбец с названием населенного пункта и 1 столбец с датой.\n",
        "  Не все типы столбца соответствуют значениям которые в нем содержатся исправим это при предобработке данных."
      ],
      "metadata": {
        "id": "S81Bkyoloo6N"
      }
    },
    {
      "cell_type": "code",
      "source": [
        "# Построим общую гистограмму для всех числовых столбцов датафрейма\n",
        "data.hist(figsize=(15, 20))\n",
        "plt.show()"
      ],
      "metadata": {
        "colab": {
          "base_uri": "https://localhost:8080/",
          "height": 0
        },
        "id": "Ay1silow3zDS",
        "outputId": "1949bc67-e01f-458c-95bb-fdf1e0b5688f"
      },
      "execution_count": 200,
      "outputs": [
        {
          "output_type": "display_data",
          "data": {
            "text/plain": [
              "<Figure size 1080x1440 with 20 Axes>"
            ],
            "image/png": "[encoded data removed]"
          },
          "metadata": {
            "needs_background": "light"
          }
        }
      ]
    },
    {
      "cell_type": "markdown",
      "source": [
        "# Шаг 2. Предобработка данных\n"
      ],
      "metadata": {
        "id": "-7Q2UN4c8Y_f"
      }
    },
    {
      "cell_type": "code",
      "source": [
        "# Сделаем корректным написание столбца city_centers_nearest\n",
        "data.rename(columns={'cityCenters_nearest' : 'city_centers_nearest'}, inplace=True)"
      ],
      "metadata": {
        "id": "KSlrYIDv4w9r"
      },
      "execution_count": 201,
      "outputs": []
    },
    {
      "cell_type": "markdown",
      "source": [
        "## Найдем и изучим пропущенные значения в столбцах:"
      ],
      "metadata": {
        "id": "7MSI-H8eW2Qd"
      }
    },
    {
      "cell_type": "code",
      "source": [
        "# Определим в каких столбцах есть пропуски\n",
        "data.isna().sum()"
      ],
      "metadata": {
        "colab": {
          "base_uri": "https://localhost:8080/"
        },
        "id": "itvh3EMX3NTL",
        "outputId": "7e785689-53c8-4f72-ea9e-26d9b660116b"
      },
      "execution_count": 202,
      "outputs": [
        {
          "output_type": "execute_result",
          "data": {
            "text/plain": [
              "total_images                0\n",
              "last_price                  0\n",
              "total_area                  0\n",
              "first_day_exposition        0\n",
              "rooms                       0\n",
              "ceiling_height           9195\n",
              "floors_total               86\n",
              "living_area              1903\n",
              "floor                       0\n",
              "is_apartment            20924\n",
              "studio                      0\n",
              "open_plan                   0\n",
              "kitchen_area             2278\n",
              "balcony                 11519\n",
              "locality_name              49\n",
              "airports_nearest         5542\n",
              "city_centers_nearest     5519\n",
              "parks_around3000         5518\n",
              "parks_nearest           15620\n",
              "ponds_around3000         5518\n",
              "ponds_nearest           14589\n",
              "days_exposition          3181\n",
              "dtype: int64"
            ]
          },
          "metadata": {},
          "execution_count": 202
        }
      ]
    },
    {
      "cell_type": "code",
      "source": [
        "# Посмотрим на процент пропусков в каждом столбце\n",
        "for column in data.columns:\n",
        "    empty = len(data.loc[data[column].isnull()])\n",
        "    if empty > 0:\n",
        "        print('- {} - содержит {} пропусков ({:.1%} от всех)'.format(column, empty, empty/data.shape[0]))"
      ],
      "metadata": {
        "colab": {
          "base_uri": "https://localhost:8080/"
        },
        "id": "Dkx7vNUWIHde",
        "outputId": "a1950cb2-7443-48a1-878d-8ed8d3d9f7d2"
      },
      "execution_count": 203,
      "outputs": [
        {
          "output_type": "stream",
          "name": "stdout",
          "text": [
            "- ceiling_height - содержит 9195 пропусков (38.8% от всех)\n",
            "- floors_total - содержит 86 пропусков (0.4% от всех)\n",
            "- living_area - содержит 1903 пропусков (8.0% от всех)\n",
            "- is_apartment - содержит 20924 пропусков (88.3% от всех)\n",
            "- kitchen_area - содержит 2278 пропусков (9.6% от всех)\n",
            "- balcony - содержит 11519 пропусков (48.6% от всех)\n",
            "- locality_name - содержит 49 пропусков (0.2% от всех)\n",
            "- airports_nearest - содержит 5542 пропусков (23.4% от всех)\n",
            "- city_centers_nearest - содержит 5519 пропусков (23.3% от всех)\n",
            "- parks_around3000 - содержит 5518 пропусков (23.3% от всех)\n",
            "- parks_nearest - содержит 15620 пропусков (65.9% от всех)\n",
            "- ponds_around3000 - содержит 5518 пропусков (23.3% от всех)\n",
            "- ponds_nearest - содержит 14589 пропусков (61.6% от всех)\n",
            "- days_exposition - содержит 3181 пропусков (13.4% от всех)\n"
          ]
        }
      ]
    },
    {
      "cell_type": "code",
      "source": [
        "# Заполним пропущенные значения\n",
        "\n",
        "# Заполним пропуски в is_apartment\n",
        "data['is_apartment'] = data['is_apartment'].fillna(value=False)\n",
        "\n",
        "# Заполним пропуски в 'balcony'\n",
        "data['balcony'] = data['balcony'].fillna(value=0)\n",
        "\n",
        "# Заполним пропуски в parks_around3000\n",
        "data['parks_around3000'] = data['parks_around3000'].fillna(value=0)\n",
        "\n",
        "# Заполним пропуски в ponds_around3000 \n",
        "data['ponds_around3000'] = data['ponds_around3000'].fillna(value=0)\n",
        "\n",
        "# Удаляем пропущенные значения в locality_name\n",
        "data.dropna(subset=['locality_name'], inplace=True)\n",
        "\n",
        "# Удаляем пропущнные значения в floors_total\n",
        "data.dropna(subset=['floors_total'],inplace=True)"
      ],
      "metadata": {
        "id": "8lxNowZ3vaZX"
      },
      "execution_count": 204,
      "outputs": []
    },
    {
      "cell_type": "markdown",
      "source": [
        "*Вывод о причинах появления пропущенных значений*\n",
        "\n",
        "- ceiling_height (высота потолков) - вероятно собственник не помнит высоту потолков\n",
        "- floors_total (число этажей в доме) - вероятно собственник просто не заполни данные о этажности дома\n",
        "- living_area (жилая площадь) - вероятно собственник не помнит жилую площадь, а помнит только общую\n",
        "- is_apartment (апартаменты) - вероятно пропуски говорят о том что, это не апартаменты. Заменим пропуски на False\n",
        "- kitchen_area (площадь кухни) - вероятно собственник не помнит площадь кухни, а помнит только общую\n",
        "- balcony (число балконов) - вероятно балкона нет. Заполним пропуски значением 0\n",
        "- locality_name (населенный пункт) - эти данные заполнялись автоматически и были пропущенны в результате технических роблем\n",
        "- airports_nearest (растояние до аэропорта) - вероятно растояние до аэропорта слишком велико велико\n",
        "- city_centers_nearest (растояние до центра) - вероятно растояние до цента слишком велико\n",
        "- parcs_around3000 (парк в радиусе 3 км) - вероятно в радиусе 3 км нет парков \n",
        "- parks_nearest (растояние до парка) - вероятно рядом нет парка\n",
        "- ponds_around3000 (водоем в радиусе 3 км) - вероятно в радиусе 3 км нет водоемов\n",
        "- ponds_nearest (растояние до водоема) - вероятно рядом нет водоема\n",
        "- days_exposition (размещения от публикации до снятия) - вероятно технические моменты\n",
        "\n",
        "\n",
        "\n"
      ],
      "metadata": {
        "id": "BUJqj64zwY6S"
      }
    },
    {
      "cell_type": "code",
      "source": [
        "# Проверим результат \n",
        "data.isna().sum()"
      ],
      "metadata": {
        "colab": {
          "base_uri": "https://localhost:8080/"
        },
        "id": "qX9AHjF5rqw3",
        "outputId": "06620338-6c72-4abc-e763-d6bd4ae29fe8"
      },
      "execution_count": 205,
      "outputs": [
        {
          "output_type": "execute_result",
          "data": {
            "text/plain": [
              "total_images                0\n",
              "last_price                  0\n",
              "total_area                  0\n",
              "first_day_exposition        0\n",
              "rooms                       0\n",
              "ceiling_height           9084\n",
              "floors_total                0\n",
              "living_area              1865\n",
              "floor                       0\n",
              "is_apartment                0\n",
              "studio                      0\n",
              "open_plan                   0\n",
              "kitchen_area             2222\n",
              "balcony                     0\n",
              "locality_name               0\n",
              "airports_nearest         5524\n",
              "city_centers_nearest     5501\n",
              "parks_around3000            0\n",
              "parks_nearest           15535\n",
              "ponds_around3000            0\n",
              "ponds_nearest           14529\n",
              "days_exposition          3171\n",
              "dtype: int64"
            ]
          },
          "metadata": {},
          "execution_count": 205
        }
      ]
    },
    {
      "cell_type": "markdown",
      "source": [
        "## Рассмотрим типы данных в каждом *столбце*\n"
      ],
      "metadata": {
        "id": "kom7ZqNHdsaE"
      }
    },
    {
      "cell_type": "code",
      "source": [
        "# Найдем столбцы в которых нужно изменить тип данных\n",
        "data.dtypes"
      ],
      "metadata": {
        "colab": {
          "base_uri": "https://localhost:8080/"
        },
        "id": "rraEWqmbfk5P",
        "outputId": "5c69dc05-c01b-4cc9-b6f6-8fe40882cfc4"
      },
      "execution_count": 206,
      "outputs": [
        {
          "output_type": "execute_result",
          "data": {
            "text/plain": [
              "total_images              int64\n",
              "last_price              float64\n",
              "total_area              float64\n",
              "first_day_exposition     object\n",
              "rooms                     int64\n",
              "ceiling_height          float64\n",
              "floors_total            float64\n",
              "living_area             float64\n",
              "floor                     int64\n",
              "is_apartment               bool\n",
              "studio                     bool\n",
              "open_plan                  bool\n",
              "kitchen_area            float64\n",
              "balcony                 float64\n",
              "locality_name            object\n",
              "airports_nearest        float64\n",
              "city_centers_nearest    float64\n",
              "parks_around3000        float64\n",
              "parks_nearest           float64\n",
              "ponds_around3000        float64\n",
              "ponds_nearest           float64\n",
              "days_exposition         float64\n",
              "dtype: object"
            ]
          },
          "metadata": {},
          "execution_count": 206
        }
      ]
    },
    {
      "cell_type": "code",
      "source": [
        "# Заменим значения в столбце first_day_exposition\n",
        "data['first_day_exposition'] = pd.to_datetime(data['first_day_exposition'], format='%Y-%m-%d')\n",
        "\n",
        "# Заменим значения в столбце floors_total\n",
        "data['floors_total'] = data['floors_total'].astype('int')\n",
        "\n",
        "# Заменим значения в столбце last_price\n",
        "data['last_price'] = data['last_price'].astype('int')\n",
        "\n",
        "# Заменим значения в столбце floor\n",
        "data['floor'] = data['floor'].astype('int')\n",
        "\n",
        "# Заменим значения в столбце balcony\n",
        "data['balcony'] = data['balcony'].astype('int')\n",
        "\n",
        "# Заменим значеия в столбце parks_around3000\n",
        "data['parks_around3000'] = data['parks_around3000'].astype('int')\n",
        "\n",
        "# Заменим значеия в столбце ponds_around3000\n",
        "data['ponds_around3000'] = data['ponds_around3000'].astype('int')\n"
      ],
      "metadata": {
        "id": "EwfoWWDKsWor"
      },
      "execution_count": 207,
      "outputs": []
    },
    {
      "cell_type": "markdown",
      "source": [
        "Привели типы данных в соответствии со значениями содержащимися в столбцах, а именно:\n",
        "- first_day_exposition в datatime указав только год, месяц и день, так как часы и минуты отсутсвуют.\n",
        "- floor, balcony, parks_around3000 и ponds_around3000 - все это столбцы с целочисленными значениями, поэтому заменим тип на int. Можно было применить метод astype() сразу при обработке пропусков в этих же столбцах"
      ],
      "metadata": {
        "id": "ghuP2-eKlIby"
      }
    },
    {
      "cell_type": "code",
      "source": [
        "data.dtypes"
      ],
      "metadata": {
        "colab": {
          "base_uri": "https://localhost:8080/"
        },
        "id": "K_lbDrwIxR7l",
        "outputId": "fbc3a87e-42eb-44fc-c6e8-429880b8d23f"
      },
      "execution_count": 208,
      "outputs": [
        {
          "output_type": "execute_result",
          "data": {
            "text/plain": [
              "total_images                     int64\n",
              "last_price                       int64\n",
              "total_area                     float64\n",
              "first_day_exposition    datetime64[ns]\n",
              "rooms                            int64\n",
              "ceiling_height                 float64\n",
              "floors_total                     int64\n",
              "living_area                    float64\n",
              "floor                            int64\n",
              "is_apartment                      bool\n",
              "studio                            bool\n",
              "open_plan                         bool\n",
              "kitchen_area                   float64\n",
              "balcony                          int64\n",
              "locality_name                   object\n",
              "airports_nearest               float64\n",
              "city_centers_nearest           float64\n",
              "parks_around3000                 int64\n",
              "parks_nearest                  float64\n",
              "ponds_around3000                 int64\n",
              "ponds_nearest                  float64\n",
              "days_exposition                float64\n",
              "dtype: object"
            ]
          },
          "metadata": {},
          "execution_count": 208
        }
      ]
    },
    {
      "cell_type": "markdown",
      "source": [
        "## Изучим уникальные значения в столбце с названиями"
      ],
      "metadata": {
        "id": "6FuCf8QjrJ9W"
      }
    },
    {
      "cell_type": "code",
      "source": [
        "# Посмотрим на уникальные значения в столбце locality_name\n",
        "data['locality_name'].unique()"
      ],
      "metadata": {
        "colab": {
          "base_uri": "https://localhost:8080/"
        },
        "id": "ET-i5vypttmn",
        "outputId": "cf7ad7dc-4887-476e-88de-edaa1186d8e9"
      },
      "execution_count": 209,
      "outputs": [
        {
          "output_type": "execute_result",
          "data": {
            "text/plain": [
              "array(['Санкт-Петербург', 'посёлок Шушары', 'городской посёлок Янино-1',\n",
              "       'посёлок Парголово', 'посёлок Мурино', 'Ломоносов', 'Сертолово',\n",
              "       'Петергоф', 'Пушкин', 'деревня Кудрово', 'Коммунар', 'Колпино',\n",
              "       'поселок городского типа Красный Бор', 'Гатчина', 'поселок Мурино',\n",
              "       'деревня Фёдоровское', 'Выборг', 'Кронштадт', 'Кировск',\n",
              "       'деревня Новое Девяткино', 'посёлок Металлострой',\n",
              "       'посёлок городского типа Лебяжье',\n",
              "       'посёлок городского типа Сиверский', 'поселок Молодцово',\n",
              "       'поселок городского типа Кузьмоловский',\n",
              "       'садовое товарищество Новая Ропша', 'Павловск',\n",
              "       'деревня Пикколово', 'Всеволожск', 'Волхов', 'Кингисепп',\n",
              "       'Приозерск', 'Сестрорецк', 'деревня Куттузи', 'посёлок Аннино',\n",
              "       'поселок городского типа Ефимовский', 'посёлок Плодовое',\n",
              "       'деревня Заклинье', 'поселок Торковичи', 'поселок Первомайское',\n",
              "       'Красное Село', 'посёлок Понтонный', 'Сясьстрой', 'деревня Старая',\n",
              "       'деревня Лесколово', 'посёлок Новый Свет', 'Сланцы',\n",
              "       'село Путилово', 'Ивангород', 'Мурино', 'Шлиссельбург',\n",
              "       'Никольское', 'Зеленогорск', 'Сосновый Бор', 'поселок Новый Свет',\n",
              "       'деревня Оржицы', 'деревня Кальтино', 'Кудрово',\n",
              "       'поселок Романовка', 'посёлок Бугры', 'поселок Бугры',\n",
              "       'поселок городского типа Рощино', 'Кириши', 'Луга', 'Волосово',\n",
              "       'Отрадное', 'село Павлово', 'поселок Оредеж', 'село Копорье',\n",
              "       'посёлок городского типа Красный Бор', 'посёлок Молодёжное',\n",
              "       'Тихвин', 'посёлок Победа', 'деревня Нурма',\n",
              "       'поселок городского типа Синявино', 'Тосно',\n",
              "       'посёлок городского типа Кузьмоловский', 'посёлок Стрельна',\n",
              "       'Бокситогорск', 'посёлок Александровская', 'деревня Лопухинка',\n",
              "       'Пикалёво', 'поселок Терволово',\n",
              "       'поселок городского типа Советский', 'Подпорожье',\n",
              "       'посёлок Петровское', 'посёлок городского типа Токсово',\n",
              "       'поселок Сельцо', 'посёлок городского типа Вырица',\n",
              "       'деревня Кипень', 'деревня Келози', 'деревня Вартемяги',\n",
              "       'посёлок Тельмана', 'поселок Севастьяново',\n",
              "       'городской поселок Большая Ижора', 'городской посёлок Павлово',\n",
              "       'деревня Агалатово', 'посёлок Новогорелово',\n",
              "       'городской посёлок Лесогорский', 'деревня Лаголово',\n",
              "       'поселок Цвелодубово', 'поселок городского типа Рахья',\n",
              "       'поселок городского типа Вырица', 'деревня Белогорка',\n",
              "       'поселок Заводской', 'городской посёлок Новоселье',\n",
              "       'деревня Большие Колпаны', 'деревня Горбунки', 'деревня Батово',\n",
              "       'деревня Заневка', 'деревня Иссад', 'Приморск',\n",
              "       'городской посёлок Фёдоровское', 'деревня Мистолово',\n",
              "       'Новая Ладога', 'поселок Зимитицы', 'поселок Барышево',\n",
              "       'деревня Разметелево', 'поселок городского типа имени Свердлова',\n",
              "       'деревня Пеники', 'поселок Рябово', 'деревня Пудомяги',\n",
              "       'поселок станции Корнево', 'деревня Низино', 'деревня Бегуницы',\n",
              "       'посёлок Поляны', 'городской посёлок Мга', 'поселок Елизаветино',\n",
              "       'посёлок городского типа Кузнечное', 'деревня Колтуши',\n",
              "       'поселок Запорожское', 'посёлок городского типа Рощино',\n",
              "       'деревня Гостилицы', 'деревня Малое Карлино',\n",
              "       'посёлок Мичуринское', 'посёлок городского типа имени Морозова',\n",
              "       'посёлок Песочный', 'посёлок Сосново', 'деревня Аро',\n",
              "       'поселок Ильичёво', 'посёлок городского типа Тайцы',\n",
              "       'деревня Малое Верево', 'деревня Извара', 'поселок станции Вещево',\n",
              "       'село Паша', 'деревня Калитино',\n",
              "       'посёлок городского типа Ульяновка', 'деревня Чудской Бор',\n",
              "       'поселок городского типа Дубровка', 'деревня Мины',\n",
              "       'поселок Войсковицы', 'посёлок городского типа имени Свердлова',\n",
              "       'деревня Коркино', 'посёлок Ропша',\n",
              "       'поселок городского типа Приладожский', 'посёлок Щеглово',\n",
              "       'посёлок Гаврилово', 'Лодейное Поле', 'деревня Рабитицы',\n",
              "       'поселок городского типа Никольский', 'деревня Кузьмолово',\n",
              "       'деревня Малые Колпаны', 'поселок Тельмана',\n",
              "       'посёлок Петро-Славянка', 'городской посёлок Назия',\n",
              "       'посёлок Репино', 'посёлок Ильичёво', 'поселок Углово',\n",
              "       'поселок Старая Малукса', 'садовое товарищество Рахья',\n",
              "       'поселок Аннино', 'поселок Победа', 'деревня Меньково',\n",
              "       'деревня Старые Бегуницы', 'посёлок Сапёрный', 'поселок Семрино',\n",
              "       'поселок Гаврилово', 'поселок Глажево', 'поселок Кобринское',\n",
              "       'деревня Гарболово', 'деревня Юкки',\n",
              "       'поселок станции Приветнинское', 'деревня Мануйлово',\n",
              "       'деревня Пчева', 'поселок Поляны', 'поселок Цвылёво',\n",
              "       'поселок Мельниково', 'посёлок Пудость', 'посёлок Усть-Луга',\n",
              "       'Светогорск', 'Любань', 'поселок Селезнёво',\n",
              "       'поселок городского типа Рябово', 'Каменногорск', 'деревня Кривко',\n",
              "       'поселок Глебычево', 'деревня Парицы', 'поселок Жилпосёлок',\n",
              "       'посёлок городского типа Мга', 'городской поселок Янино-1',\n",
              "       'посёлок Войскорово', 'село Никольское', 'посёлок Терволово',\n",
              "       'поселок Стеклянный', 'посёлок городского типа Важины',\n",
              "       'посёлок Мыза-Ивановка', 'село Русско-Высоцкое',\n",
              "       'поселок городского типа Лебяжье',\n",
              "       'поселок городского типа Форносово', 'село Старая Ладога',\n",
              "       'поселок Житково', 'городской посёлок Виллози', 'деревня Лампово',\n",
              "       'деревня Шпаньково', 'деревня Лаврики', 'посёлок Сумино',\n",
              "       'посёлок Возрождение', 'деревня Старосиверская',\n",
              "       'посёлок Кикерино', 'поселок Возрождение',\n",
              "       'деревня Старое Хинколово', 'посёлок Пригородный',\n",
              "       'посёлок Торфяное', 'городской посёлок Будогощь',\n",
              "       'поселок Суходолье', 'поселок Красная Долина', 'деревня Хапо-Ое',\n",
              "       'поселок городского типа Дружная Горка', 'поселок Лисий Нос',\n",
              "       'деревня Яльгелево', 'посёлок Стеклянный', 'село Рождествено',\n",
              "       'деревня Старополье', 'посёлок Левашово', 'деревня Сяськелево',\n",
              "       'деревня Камышовка',\n",
              "       'садоводческое некоммерческое товарищество Лесная Поляна',\n",
              "       'деревня Хязельки', 'поселок Жилгородок',\n",
              "       'посёлок городского типа Павлово', 'деревня Ялгино',\n",
              "       'поселок Новый Учхоз', 'городской посёлок Рощино',\n",
              "       'поселок Гончарово', 'поселок Почап', 'посёлок Сапёрное',\n",
              "       'посёлок Платформа 69-й километр', 'поселок Каложицы',\n",
              "       'деревня Фалилеево', 'деревня Пельгора',\n",
              "       'поселок городского типа Лесогорский', 'деревня Торошковичи',\n",
              "       'посёлок Белоостров', 'посёлок Алексеевка', 'поселок Серебрянский',\n",
              "       'поселок Лукаши', 'поселок Петровское', 'деревня Щеглово',\n",
              "       'поселок Мичуринское', 'деревня Тарасово', 'поселок Кингисеппский',\n",
              "       'посёлок при железнодорожной станции Вещево', 'поселок Ушаки',\n",
              "       'деревня Котлы', 'деревня Сижно', 'деревня Торосово',\n",
              "       'посёлок Форт Красная Горка', 'деревня Новолисино',\n",
              "       'посёлок станции Громово', 'деревня Глинка', 'посёлок Мельниково',\n",
              "       'поселок городского типа Назия', 'деревня Старая Пустошь',\n",
              "       'поселок Коммунары', 'поселок Починок',\n",
              "       'посёлок городского типа Вознесенье', 'деревня Разбегаево',\n",
              "       'посёлок городского типа Рябово', 'поселок Гладкое',\n",
              "       'посёлок при железнодорожной станции Приветнинское',\n",
              "       'поселок Тёсово-4', 'посёлок Жилгородок', 'деревня Бор',\n",
              "       'посёлок Коробицыно', 'деревня Большая Вруда', 'деревня Курковицы',\n",
              "       'посёлок Лисий Нос', 'городской посёлок Советский',\n",
              "       'посёлок Кобралово', 'деревня Суоранда', 'поселок Кобралово',\n",
              "       'поселок городского типа Кондратьево',\n",
              "       'коттеджный поселок Счастье', 'поселок Любань', 'деревня Реброво',\n",
              "       'деревня Зимитицы', 'деревня Тойворово', 'поселок Семиозерье',\n",
              "       'поселок Лесное', 'поселок Совхозный', 'поселок Усть-Луга',\n",
              "       'посёлок Ленинское', 'посёлок Суйда',\n",
              "       'посёлок городского типа Форносово', 'деревня Нижние Осельки',\n",
              "       'посёлок станции Свирь', 'поселок Перово', 'Высоцк',\n",
              "       'поселок Гарболово', 'село Шум', 'поселок Котельский',\n",
              "       'поселок станции Лужайка', 'деревня Большая Пустомержа',\n",
              "       'поселок Красносельское', 'деревня Вахнова Кара', 'деревня Пижма',\n",
              "       'коттеджный поселок Кивеннапа Север', 'поселок Коробицыно',\n",
              "       'поселок Ромашки', 'посёлок Перово', 'деревня Каськово',\n",
              "       'деревня Куровицы', 'посёлок Плоское', 'поселок Сумино',\n",
              "       'поселок городского типа Большая Ижора', 'поселок Кирпичное',\n",
              "       'деревня Ям-Тесово', 'деревня Раздолье', 'деревня Терпилицы',\n",
              "       'поселок городского типа Токсово', 'посёлок Шугозеро',\n",
              "       'деревня Ваганово', 'поселок Пушное', 'садовое товарищество Садко',\n",
              "       'посёлок Усть-Ижора', 'деревня Выскатка',\n",
              "       'городской посёлок Свирьстрой', 'поселок Громово',\n",
              "       'деревня Кисельня', 'посёлок Старая Малукса',\n",
              "       'деревня Трубников Бор', 'поселок Калитино',\n",
              "       'посёлок Высокоключевой', 'садовое товарищество Приладожский',\n",
              "       'посёлок Пансионат Зелёный Бор', 'деревня Ненимяки',\n",
              "       'поселок Пансионат Зелёный Бор', 'деревня Снегирёвка',\n",
              "       'деревня Рапполово', 'деревня Пустынка', 'поселок Рабитицы',\n",
              "       'деревня Большой Сабск', 'деревня Русско', 'деревня Лупполово',\n",
              "       'деревня Большое Рейзино', 'деревня Малая Романовка',\n",
              "       'поселок Дружноселье', 'поселок Пчевжа', 'поселок Володарское',\n",
              "       'деревня Нижняя', 'коттеджный посёлок Лесное', 'деревня Тихковицы',\n",
              "       'деревня Борисова Грива', 'посёлок Дзержинского'], dtype=object)"
            ]
          },
          "metadata": {},
          "execution_count": 209
        }
      ]
    },
    {
      "cell_type": "code",
      "source": [
        "# Проверим на наличие явных дубликатов\n",
        "data.duplicated().sum()\n",
        "\n",
        "# Приведем все записи к нижнему регистру\n",
        "data['locality_name'] = data['locality_name'].str.lower()\n",
        "\n",
        "# Избавимся от буквы ё \n",
        "data['locality_name'] = data['locality_name'].str.replace('ё', 'е')\n",
        "\n",
        "# Заменим городской поселок на поселок городского типа\n",
        "data['locality_name'] = data['locality_name'].str.replace('городской поселок', 'поселок городского типа')\n"
      ],
      "metadata": {
        "id": "JdK5oLfC02a1"
      },
      "execution_count": 210,
      "outputs": []
    },
    {
      "cell_type": "markdown",
      "source": [
        "Немного, но мы убрали 41 дубликат"
      ],
      "metadata": {
        "id": "FombotB9-m6M"
      }
    },
    {
      "cell_type": "markdown",
      "source": [
        "## Найдем и устраним редкие и выбивающиеся значения"
      ],
      "metadata": {
        "id": "V6cBTiia_aZx"
      }
    },
    {
      "cell_type": "markdown",
      "source": [
        "### Число фотографий\n",
        "\n",
        "*Описание данных не указывает на наличие редких и выбивающихся значений*"
      ],
      "metadata": {
        "id": "wneBRcZrk2CS"
      }
    },
    {
      "cell_type": "code",
      "source": [
        "# Посморим описание\n",
        "data['total_images'].describe()"
      ],
      "metadata": {
        "colab": {
          "base_uri": "https://localhost:8080/"
        },
        "id": "H_unQnf6lAOj",
        "outputId": "8f6e06db-2b4a-4c4e-f0b9-d61e66ed799b"
      },
      "execution_count": 211,
      "outputs": [
        {
          "output_type": "execute_result",
          "data": {
            "text/plain": [
              "count    23565.000000\n",
              "mean         9.878421\n",
              "std          5.681156\n",
              "min          0.000000\n",
              "25%          6.000000\n",
              "50%          9.000000\n",
              "75%         14.000000\n",
              "max         50.000000\n",
              "Name: total_images, dtype: float64"
            ]
          },
          "metadata": {},
          "execution_count": 211
        }
      ]
    },
    {
      "cell_type": "markdown",
      "source": [
        "### Цена на момент снятия\n",
        "Сводная таблица показывает, что высокая стоимость обусловлена большим метражом и количеством комнат. Слишком большое количество комнат следует удалить. Такое решение сократит количество выбивающихся значений в смежных столбцах, таких. как количество комнат и общая площадь"
      ],
      "metadata": {
        "id": "E5tnsxKBH1cL"
      }
    },
    {
      "cell_type": "code",
      "source": [
        "# Посмотрим на высокие значения стоимости \n",
        "pd.pivot_table(data, index=['rooms'], values=['total_area', 'last_price'], aggfunc=['max'])"
      ],
      "metadata": {
        "colab": {
          "base_uri": "https://localhost:8080/",
          "height": 0
        },
        "id": "uwQV6MUEY1wE",
        "outputId": "57bdd14e-8421-46fb-f24b-2235d403792c"
      },
      "execution_count": 212,
      "outputs": [
        {
          "output_type": "execute_result",
          "data": {
            "text/plain": [
              "             max           \n",
              "      last_price total_area\n",
              "rooms                      \n",
              "0       71000000      371.0\n",
              "1       43511000      494.1\n",
              "2      289238400      196.0\n",
              "3      330000000      363.1\n",
              "4      159984000      500.0\n",
              "5      401300000      507.0\n",
              "6      245000000      500.0\n",
              "7      763000000      631.2\n",
              "8      180000000      373.1\n",
              "9       88000000      400.0\n",
              "10      40000000      290.0\n",
              "11      33000000      194.1\n",
              "12     420000000      900.0\n",
              "14      28659000      363.0\n",
              "15      65000000      590.0\n",
              "16      28500000      270.0\n",
              "19      32250000      374.6"
            ],
            "text/html": [
              "\n",
              "  <div id=\"df-17015766-ea31-44a6-a87d-ce84097fdcd1\">\n",
              "    <div class=\"colab-df-container\">\n",
              "      <div>\n",
              "<style scoped>\n",
              "    .dataframe tbody tr th:only-of-type {\n",
              "        vertical-align: middle;\n",
              "    }\n",
              "\n",
              "    .dataframe tbody tr th {\n",
              "        vertical-align: top;\n",
              "    }\n",
              "\n",
              "    .dataframe thead tr th {\n",
              "        text-align: left;\n",
              "    }\n",
              "\n",
              "    .dataframe thead tr:last-of-type th {\n",
              "        text-align: right;\n",
              "    }\n",
              "</style>\n",
              "<table border=\"1\" class=\"dataframe\">\n",
              "  <thead>\n",
              "    <tr>\n",
              "      <th></th>\n",
              "      <th colspan=\"2\" halign=\"left\">max</th>\n",
              "    </tr>\n",
              "    <tr>\n",
              "      <th></th>\n",
              "      <th>last_price</th>\n",
              "      <th>total_area</th>\n",
              "    </tr>\n",
              "    <tr>\n",
              "      <th>rooms</th>\n",
              "      <th></th>\n",
              "      <th></th>\n",
              "    </tr>\n",
              "  </thead>\n",
              "  <tbody>\n",
              "    <tr>\n",
              "      <th>0</th>\n",
              "      <td>71000000</td>\n",
              "      <td>371.0</td>\n",
              "    </tr>\n",
              "    <tr>\n",
              "      <th>1</th>\n",
              "      <td>43511000</td>\n",
              "      <td>494.1</td>\n",
              "    </tr>\n",
              "    <tr>\n",
              "      <th>2</th>\n",
              "      <td>289238400</td>\n",
              "      <td>196.0</td>\n",
              "    </tr>\n",
              "    <tr>\n",
              "      <th>3</th>\n",
              "      <td>330000000</td>\n",
              "      <td>363.1</td>\n",
              "    </tr>\n",
              "    <tr>\n",
              "      <th>4</th>\n",
              "      <td>159984000</td>\n",
              "      <td>500.0</td>\n",
              "    </tr>\n",
              "    <tr>\n",
              "      <th>5</th>\n",
              "      <td>401300000</td>\n",
              "      <td>507.0</td>\n",
              "    </tr>\n",
              "    <tr>\n",
              "      <th>6</th>\n",
              "      <td>245000000</td>\n",
              "      <td>500.0</td>\n",
              "    </tr>\n",
              "    <tr>\n",
              "      <th>7</th>\n",
              "      <td>763000000</td>\n",
              "      <td>631.2</td>\n",
              "    </tr>\n",
              "    <tr>\n",
              "      <th>8</th>\n",
              "      <td>180000000</td>\n",
              "      <td>373.1</td>\n",
              "    </tr>\n",
              "    <tr>\n",
              "      <th>9</th>\n",
              "      <td>88000000</td>\n",
              "      <td>400.0</td>\n",
              "    </tr>\n",
              "    <tr>\n",
              "      <th>10</th>\n",
              "      <td>40000000</td>\n",
              "      <td>290.0</td>\n",
              "    </tr>\n",
              "    <tr>\n",
              "      <th>11</th>\n",
              "      <td>33000000</td>\n",
              "      <td>194.1</td>\n",
              "    </tr>\n",
              "    <tr>\n",
              "      <th>12</th>\n",
              "      <td>420000000</td>\n",
              "      <td>900.0</td>\n",
              "    </tr>\n",
              "    <tr>\n",
              "      <th>14</th>\n",
              "      <td>28659000</td>\n",
              "      <td>363.0</td>\n",
              "    </tr>\n",
              "    <tr>\n",
              "      <th>15</th>\n",
              "      <td>65000000</td>\n",
              "      <td>590.0</td>\n",
              "    </tr>\n",
              "    <tr>\n",
              "      <th>16</th>\n",
              "      <td>28500000</td>\n",
              "      <td>270.0</td>\n",
              "    </tr>\n",
              "    <tr>\n",
              "      <th>19</th>\n",
              "      <td>32250000</td>\n",
              "      <td>374.6</td>\n",
              "    </tr>\n",
              "  </tbody>\n",
              "</table>\n",
              "</div>\n",
              "      <button class=\"colab-df-convert\" onclick=\"convertToInteractive('df-17015766-ea31-44a6-a87d-ce84097fdcd1')\"\n",
              "              title=\"Convert this dataframe to an interactive table.\"\n",
              "              style=\"display:none;\">\n",
              "        \n",
              "  <svg xmlns=\"http://www.w3.org/2000/svg\" height=\"24px\"viewBox=\"0 0 24 24\"\n",
              "       width=\"24px\">\n",
              "    <path d=\"M0 0h24v24H0V0z\" fill=\"none\"/>\n",
              "    <path d=\"M18.56 5.44l.94 2.06.94-2.06 2.06-.94-2.06-.94-.94-2.06-.94 2.06-2.06.94zm-11 1L8.5 8.5l.94-2.06 2.06-.94-2.06-.94L8.5 2.5l-.94 2.06-2.06.94zm10 10l.94 2.06.94-2.06 2.06-.94-2.06-.94-.94-2.06-.94 2.06-2.06.94z\"/><path d=\"M17.41 7.96l-1.37-1.37c-.4-.4-.92-.59-1.43-.59-.52 0-1.04.2-1.43.59L10.3 9.45l-7.72 7.72c-.78.78-.78 2.05 0 2.83L4 21.41c.39.39.9.59 1.41.59.51 0 1.02-.2 1.41-.59l7.78-7.78 2.81-2.81c.8-.78.8-2.07 0-2.86zM5.41 20L4 18.59l7.72-7.72 1.47 1.35L5.41 20z\"/>\n",
              "  </svg>\n",
              "      </button>\n",
              "      \n",
              "  <style>\n",
              "    .colab-df-container {\n",
              "      display:flex;\n",
              "      flex-wrap:wrap;\n",
              "      gap: 12px;\n",
              "    }\n",
              "\n",
              "    .colab-df-convert {\n",
              "      background-color: #E8F0FE;\n",
              "      border: none;\n",
              "      border-radius: 50%;\n",
              "      cursor: pointer;\n",
              "      display: none;\n",
              "      fill: #1967D2;\n",
              "      height: 32px;\n",
              "      padding: 0 0 0 0;\n",
              "      width: 32px;\n",
              "    }\n",
              "\n",
              "    .colab-df-convert:hover {\n",
              "      background-color: #E2EBFA;\n",
              "      box-shadow: 0px 1px 2px rgba(60, 64, 67, 0.3), 0px 1px 3px 1px rgba(60, 64, 67, 0.15);\n",
              "      fill: #174EA6;\n",
              "    }\n",
              "\n",
              "    [theme=dark] .colab-df-convert {\n",
              "      background-color: #3B4455;\n",
              "      fill: #D2E3FC;\n",
              "    }\n",
              "\n",
              "    [theme=dark] .colab-df-convert:hover {\n",
              "      background-color: #434B5C;\n",
              "      box-shadow: 0px 1px 3px 1px rgba(0, 0, 0, 0.15);\n",
              "      filter: drop-shadow(0px 1px 2px rgba(0, 0, 0, 0.3));\n",
              "      fill: #FFFFFF;\n",
              "    }\n",
              "  </style>\n",
              "\n",
              "      <script>\n",
              "        const buttonEl =\n",
              "          document.querySelector('#df-17015766-ea31-44a6-a87d-ce84097fdcd1 button.colab-df-convert');\n",
              "        buttonEl.style.display =\n",
              "          google.colab.kernel.accessAllowed ? 'block' : 'none';\n",
              "\n",
              "        async function convertToInteractive(key) {\n",
              "          const element = document.querySelector('#df-17015766-ea31-44a6-a87d-ce84097fdcd1');\n",
              "          const dataTable =\n",
              "            await google.colab.kernel.invokeFunction('convertToInteractive',\n",
              "                                                     [key], {});\n",
              "          if (!dataTable) return;\n",
              "\n",
              "          const docLinkHtml = 'Like what you see? Visit the ' +\n",
              "            '<a target=\"_blank\" href=https://colab.research.google.com/notebooks/data_table.ipynb>data table notebook</a>'\n",
              "            + ' to learn more about interactive tables.';\n",
              "          element.innerHTML = '';\n",
              "          dataTable['output_type'] = 'display_data';\n",
              "          await google.colab.output.renderOutput(dataTable, element);\n",
              "          const docLink = document.createElement('div');\n",
              "          docLink.innerHTML = docLinkHtml;\n",
              "          element.appendChild(docLink);\n",
              "        }\n",
              "      </script>\n",
              "    </div>\n",
              "  </div>\n",
              "  "
            ]
          },
          "metadata": {},
          "execution_count": 212
        }
      ]
    },
    {
      "cell_type": "code",
      "source": [
        "# Посмотрим количество квартир\n",
        "print('Квартир стоимостью больше 100.000.000:', data.query('last_price > 1e+08')['last_price'].count())"
      ],
      "metadata": {
        "colab": {
          "base_uri": "https://localhost:8080/"
        },
        "id": "LBeWqZ8tzhsk",
        "outputId": "60502685-972b-4b3b-cb8a-1f0f53f0b586"
      },
      "execution_count": 213,
      "outputs": [
        {
          "output_type": "stream",
          "name": "stdout",
          "text": [
            "Квартир стоимостью больше 100.000.000: 37\n"
          ]
        }
      ]
    },
    {
      "cell_type": "code",
      "source": [
        "# Удалим выбивающиеся значения\n",
        "data.drop(index=data.query('last_price > 1e+08').index,inplace=True)"
      ],
      "metadata": {
        "id": "fesrx8aN7fl5"
      },
      "execution_count": 214,
      "outputs": []
    },
    {
      "cell_type": "markdown",
      "source": [
        "### Общая площадь квартиры\n",
        "Минимальная площадь в 12 метров и максимальная в 900 вполне укладываются в нормальное распределение значений, но для последующего анализа могут помешать, поэтому удалим объявления привышающие 500 м2\n",
        "\n",
        "\n",
        "\n",
        "\n"
      ],
      "metadata": {
        "id": "ldlBuhEMAPVf"
      }
    },
    {
      "cell_type": "code",
      "source": [
        "# Посмотрим описание\n",
        "data['total_area'].describe()"
      ],
      "metadata": {
        "colab": {
          "base_uri": "https://localhost:8080/"
        },
        "id": "yqsYGOSgnelv",
        "outputId": "d59efa50-9d95-45e5-a445-0060c16bdf9e"
      },
      "execution_count": 215,
      "outputs": [
        {
          "output_type": "execute_result",
          "data": {
            "text/plain": [
              "count    23528.000000\n",
              "mean        59.899785\n",
              "std         33.461514\n",
              "min         12.000000\n",
              "25%         40.000000\n",
              "50%         52.000000\n",
              "75%         69.500000\n",
              "max        590.000000\n",
              "Name: total_area, dtype: float64"
            ]
          },
          "metadata": {},
          "execution_count": 215
        }
      ]
    },
    {
      "cell_type": "code",
      "source": [
        "print('Количество квартир с общей площадью свыше 500 м2: ', data.query('total_area > 500')['total_area'].count())"
      ],
      "metadata": {
        "colab": {
          "base_uri": "https://localhost:8080/"
        },
        "id": "dx5laR6U6teV",
        "outputId": "697797b3-0a60-4964-d770-22bb88bbeb00"
      },
      "execution_count": 216,
      "outputs": [
        {
          "output_type": "stream",
          "name": "stdout",
          "text": [
            "Количество квартир с общей площадью свыше 500 м2:  3\n"
          ]
        }
      ]
    },
    {
      "cell_type": "code",
      "source": [
        "# Удалим квартиры в которых метраж привышает 500 м2\n",
        "data.drop(index=data.query('total_area > 500').index,inplace=True)"
      ],
      "metadata": {
        "id": "dYmrw-_j5kaR"
      },
      "execution_count": 217,
      "outputs": []
    },
    {
      "cell_type": "markdown",
      "source": [
        "### Количество комнат\n",
        "*Нулевые значения могут говорить о том что это квартира-студия или свободная планировка*"
      ],
      "metadata": {
        "id": "AfNE2yVyl5rv"
      }
    },
    {
      "cell_type": "code",
      "source": [
        "# Посмотрим описание данных\n",
        "data['rooms'].describe()"
      ],
      "metadata": {
        "colab": {
          "base_uri": "https://localhost:8080/"
        },
        "id": "h5GuOa7bl_WV",
        "outputId": "e01622b0-2280-4894-e293-f7415607291e"
      },
      "execution_count": 218,
      "outputs": [
        {
          "output_type": "execute_result",
          "data": {
            "text/plain": [
              "count    23525.000000\n",
              "mean         2.064825\n",
              "std          1.065811\n",
              "min          0.000000\n",
              "25%          1.000000\n",
              "50%          2.000000\n",
              "75%          3.000000\n",
              "max         19.000000\n",
              "Name: rooms, dtype: float64"
            ]
          },
          "metadata": {},
          "execution_count": 218
        }
      ]
    },
    {
      "cell_type": "code",
      "source": [
        "# Посмотрим количество нулевых значений\n",
        "print('Количество квартир где 0 комнат: ' , data.query('rooms == 0')['rooms'].count())"
      ],
      "metadata": {
        "colab": {
          "base_uri": "https://localhost:8080/"
        },
        "id": "zGc0_Ijgm2Pe",
        "outputId": "15bc2c15-1b12-4bff-f236-aaef77c2146e"
      },
      "execution_count": 219,
      "outputs": [
        {
          "output_type": "stream",
          "name": "stdout",
          "text": [
            "Количество квартир где 0 комнат:  194\n"
          ]
        }
      ]
    },
    {
      "cell_type": "code",
      "source": [
        "# Посмотрим количество комнат больше 7\n",
        "print('Количество квартир где больше 7 комнат: ', data.query('rooms > 7')['rooms'].count())"
      ],
      "metadata": {
        "colab": {
          "base_uri": "https://localhost:8080/"
        },
        "id": "GLlEtp4q2t3c",
        "outputId": "c5c9a29f-8f90-4085-f447-0fabd6decc54"
      },
      "execution_count": 220,
      "outputs": [
        {
          "output_type": "stream",
          "name": "stdout",
          "text": [
            "Количество квартир где больше 7 комнат:  27\n"
          ]
        }
      ]
    },
    {
      "cell_type": "code",
      "source": [
        "# Удалим объявления в которых больше 7 комнат\n",
        "data.drop(index=data.query('rooms > 7').index,inplace=True)"
      ],
      "metadata": {
        "id": "PaMkB1I53ri1"
      },
      "execution_count": 221,
      "outputs": []
    },
    {
      "cell_type": "markdown",
      "source": [
        "### Высота потолков\n",
        "Уберем выбросы ниже 2,5 метров и все что выше 4 метров.\n",
        "Приведем в порядок значения от 25 до 36 метров, приедя их к значениям от 2,5 до 3,6"
      ],
      "metadata": {
        "id": "rE8crW5t5fgQ"
      }
    },
    {
      "cell_type": "code",
      "source": [
        "# Выведем самые высокие и самые низкие значения\n",
        "print('Самые высокие потолки:')\n",
        "print(data['ceiling_height'].sort_values(ascending=False).head())\n",
        "print('Cамые низкие потолки:')\n",
        "print(data['ceiling_height'].sort_values().head())"
      ],
      "metadata": {
        "colab": {
          "base_uri": "https://localhost:8080/"
        },
        "id": "yx8XqjwXRRVE",
        "outputId": "4bb826a5-dda7-4bbf-d75e-3da9a9edf658"
      },
      "execution_count": 222,
      "outputs": [
        {
          "output_type": "stream",
          "name": "stdout",
          "text": [
            "Самые высокие потолки:\n",
            "22869    100.0\n",
            "3148      32.0\n",
            "22336     32.0\n",
            "21377     27.5\n",
            "17857     27.0\n",
            "Name: ceiling_height, dtype: float64\n",
            "Cамые низкие потолки:\n",
            "22590    1.00\n",
            "5712     1.20\n",
            "16934    1.75\n",
            "5850     2.00\n",
            "11352    2.00\n",
            "Name: ceiling_height, dtype: float64\n"
          ]
        }
      ]
    },
    {
      "cell_type": "code",
      "source": [
        "# Удалим выбивающиеся значения выше 4 метров\n",
        "data.drop(index=data.query('ceiling_height > 4 and ceiling_height < 25').index,inplace=True)\n",
        "# Потолки с высотой от 25 до 36 метров приведем к метражу  от 2,5 до  3,6 соответственно\n",
        "data.update(data[(data['ceiling_height'] >= 25) & (data['ceiling_height'] <= 36)]['ceiling_height']/10)\n",
        "# Удалим все что выше 36 метров\n",
        "data.drop(index=data.query('ceiling_height > 36').index,inplace=True)\n",
        "# Удалим потолки ниже минимально допустимых значений в 2,5 метра \n",
        "data.drop(index=data.query('ceiling_height < 2.5').index,inplace=True)\n",
        "# Заменим пропущенные значения на медианное значение по всему датасету\n",
        "data['ceiling_height'] = data.groupby(['locality_name', 'floors_total'])['ceiling_height'].apply(lambda x: x.fillna(x.median()))\n",
        "data['ceiling_height'].fillna(data['ceiling_height'].median(), inplace=True)"
      ],
      "metadata": {
        "id": "Xbsi8b-Olktm"
      },
      "execution_count": 223,
      "outputs": []
    },
    {
      "cell_type": "markdown",
      "source": [
        "### Всего этажей в доме\n",
        "\n",
        "*Описание данных не указывает на наличие редких и выбивающихся значений*"
      ],
      "metadata": {
        "id": "pydXJUOribK0"
      }
    },
    {
      "cell_type": "code",
      "source": [
        "# Посмотрим описание\n",
        "data['floors_total'].describe()"
      ],
      "metadata": {
        "colab": {
          "base_uri": "https://localhost:8080/"
        },
        "id": "EQgvb-sdjCOY",
        "outputId": "10d636d0-b3e1-4ba0-8319-4eec2a9433c5"
      },
      "execution_count": 224,
      "outputs": [
        {
          "output_type": "execute_result",
          "data": {
            "text/plain": [
              "count    23374.000000\n",
              "mean        10.707538\n",
              "std          6.600774\n",
              "min          1.000000\n",
              "25%          5.000000\n",
              "50%          9.000000\n",
              "75%         16.000000\n",
              "max         60.000000\n",
              "Name: floors_total, dtype: float64"
            ]
          },
          "metadata": {},
          "execution_count": 224
        }
      ]
    },
    {
      "cell_type": "markdown",
      "source": [
        "### Жилая площадь\n",
        "Пропуски в жилой площади заменим на значения медианы"
      ],
      "metadata": {
        "id": "wadMRpzgoDyX"
      }
    },
    {
      "cell_type": "code",
      "source": [
        "# Заполним пропущенные значения living_area медианным значением по каждому типу из столбца total_images\n",
        "for living in data['total_images'].unique():\n",
        "  data.loc[(data['total_images'] == living) & (data['living_area'].isna()), 'living_area'] = \\\n",
        "  data.loc[(data['total_images'] == living), 'living_area'].median()"
      ],
      "metadata": {
        "id": "niwRu0s-n74P"
      },
      "execution_count": 225,
      "outputs": []
    },
    {
      "cell_type": "markdown",
      "source": [
        "### Этаж\n",
        "В этажах нет пропусков и значений которые привышали бы общую этажность дома. "
      ],
      "metadata": {
        "id": "eZ0SXxsWALhn"
      }
    },
    {
      "cell_type": "code",
      "source": [
        "# Посмотрим описание данных\n",
        "data['floor'].describe()"
      ],
      "metadata": {
        "colab": {
          "base_uri": "https://localhost:8080/"
        },
        "id": "wjB4kW_FqMTd",
        "outputId": "ceb1cad8-e436-469c-9d5e-65a701234bc7"
      },
      "execution_count": 226,
      "outputs": [
        {
          "output_type": "execute_result",
          "data": {
            "text/plain": [
              "count    23374.000000\n",
              "mean         5.888466\n",
              "std          4.879878\n",
              "min          1.000000\n",
              "25%          2.000000\n",
              "50%          4.000000\n",
              "75%          8.000000\n",
              "max         33.000000\n",
              "Name: floor, dtype: float64"
            ]
          },
          "metadata": {},
          "execution_count": 226
        }
      ]
    },
    {
      "cell_type": "code",
      "source": [
        "# Посмотрим есть ли этаж из объявления превышающий этажность всего дома\n",
        "data[data['floor'] > data['floors_total']]['floor'].count()"
      ],
      "metadata": {
        "colab": {
          "base_uri": "https://localhost:8080/"
        },
        "id": "KUyCPAvfAbaq",
        "outputId": "499e74b1-e21a-4050-bc35-f04dca1ea366"
      },
      "execution_count": 227,
      "outputs": [
        {
          "output_type": "execute_result",
          "data": {
            "text/plain": [
              "0"
            ]
          },
          "metadata": {},
          "execution_count": 227
        }
      ]
    },
    {
      "cell_type": "markdown",
      "source": [
        "### Площадь кухни\n",
        "Сводная таблица показала что присутствуют "
      ],
      "metadata": {
        "id": "PMTEovf6pvy7"
      }
    },
    {
      "cell_type": "code",
      "source": [
        "# Проверим нет ли кухни с площадью превышающей общую площадь квартиры\n",
        "data.query('kitchen_area > total_area')['living_area'].count()"
      ],
      "metadata": {
        "colab": {
          "base_uri": "https://localhost:8080/"
        },
        "id": "7TclXBp2p7oB",
        "outputId": "f5a8b0f2-c19f-4f22-f640-e99c0bd6e04a"
      },
      "execution_count": 228,
      "outputs": [
        {
          "output_type": "execute_result",
          "data": {
            "text/plain": [
              "0"
            ]
          },
          "metadata": {},
          "execution_count": 228
        }
      ]
    },
    {
      "cell_type": "code",
      "source": [
        "# # Заполним пропущенные значения kitchen_area медианным значением по каждому типу из столбца total_images\n",
        "for living in data['total_images'].unique():\n",
        "  data.loc[(data['total_images'] == living) & (data['kitchen_area'].isna()), 'kitchen_area'] = \\\n",
        "  data.loc[(data['total_images'] == living), 'kitchen_area'].median()"
      ],
      "metadata": {
        "id": "kQ8fD4M6CgSE"
      },
      "execution_count": 229,
      "outputs": []
    },
    {
      "cell_type": "code",
      "source": [
        "data.isna().sum()"
      ],
      "metadata": {
        "colab": {
          "base_uri": "https://localhost:8080/"
        },
        "id": "ROY9uBwnMvFJ",
        "outputId": "b674f0d9-b730-47f0-a9da-a2df14ee576d"
      },
      "execution_count": 230,
      "outputs": [
        {
          "output_type": "execute_result",
          "data": {
            "text/plain": [
              "total_images                0\n",
              "last_price                  0\n",
              "total_area                  0\n",
              "first_day_exposition        0\n",
              "rooms                       0\n",
              "ceiling_height              0\n",
              "floors_total                0\n",
              "living_area                 0\n",
              "floor                       0\n",
              "is_apartment                0\n",
              "studio                      0\n",
              "open_plan                   0\n",
              "kitchen_area                0\n",
              "balcony                     0\n",
              "locality_name               0\n",
              "airports_nearest         5484\n",
              "city_centers_nearest     5464\n",
              "parks_around3000            0\n",
              "parks_nearest           15451\n",
              "ponds_around3000            0\n",
              "ponds_nearest           14438\n",
              "days_exposition          3140\n",
              "dtype: int64"
            ]
          },
          "metadata": {},
          "execution_count": 230
        }
      ]
    },
    {
      "cell_type": "markdown",
      "source": [
        "# Шаг 3. Добавление новых столбцов"
      ],
      "metadata": {
        "id": "GU58QW6byh9t"
      }
    },
    {
      "cell_type": "code",
      "source": [
        "# Добавим столбец со стоимостью одного квадратного метра\n",
        "data['prise_square_m'] = data['last_price'] / data['total_area']"
      ],
      "metadata": {
        "id": "_8SNklv7y8hf"
      },
      "execution_count": 231,
      "outputs": []
    },
    {
      "cell_type": "code",
      "source": [
        "# Добавим столбец дня недели публикации объявления\n",
        "data['day_public'] = data['first_day_exposition'].dt.weekday"
      ],
      "metadata": {
        "id": "lFGkU4091Kun"
      },
      "execution_count": 232,
      "outputs": []
    },
    {
      "cell_type": "code",
      "source": [
        "# Добавим столбец для месяца публикации объявления\n",
        "data['month_public'] = data['first_day_exposition'].dt.month"
      ],
      "metadata": {
        "id": "tTvqvuc425kl"
      },
      "execution_count": 233,
      "outputs": []
    },
    {
      "cell_type": "code",
      "source": [
        "# Добавим столбец для года публикации объявления \n",
        "data['year_public'] = data['first_day_exposition'].dt.year"
      ],
      "metadata": {
        "id": "PIqXoVIK3RjU"
      },
      "execution_count": 234,
      "outputs": []
    },
    {
      "cell_type": "code",
      "source": [
        "# Добавим столбец с группами по этажам\n",
        "def group_floor(row): \n",
        "    if row['floor'] == 1:\n",
        "        return 'первый'\n",
        "    elif row['floor'] == row['floors_total']:\n",
        "        return 'последний'\n",
        "    return 'другой'\n",
        "\n",
        "data['group_floor'] = data.apply(group_floor, axis=1)"
      ],
      "metadata": {
        "id": "SfXmPSmV3cCl"
      },
      "execution_count": 235,
      "outputs": []
    },
    {
      "cell_type": "code",
      "source": [
        "# Добавим столбец растояния до центра города в км\n",
        "data['city_centers_nearest_km'] = round(data['city_centers_nearest'] / 1000)"
      ],
      "metadata": {
        "id": "luZVjQBw3q0c"
      },
      "execution_count": 236,
      "outputs": []
    },
    {
      "cell_type": "markdown",
      "source": [
        "# Шаг 4. Исследовательский анализ"
      ],
      "metadata": {
        "id": "-rXDOn6U8Cl8"
      }
    },
    {
      "cell_type": "markdown",
      "source": [
        "## Изучим следующие параметры объектов"
      ],
      "metadata": {
        "id": "So8jTqpVSWlt"
      }
    },
    {
      "cell_type": "markdown",
      "source": [
        "### Общая площадь\n",
        "Распределение площади квартир выглядит вполне логично. Совсем маленькое количество квартир до 20 метров - малосемейки, комнаты, общежития; от 20 до 30 метров - однушки; дальше двух и трех комнатные квартиры метражом от 40 до 70 метров. После идут большие квартиры\n",
        "\n"
      ],
      "metadata": {
        "id": "rPxIuP9p8N16"
      }
    },
    {
      "cell_type": "code",
      "source": [
        "# Построим гистограмму для total_area\n",
        "plt.hist(data['total_area'], bins=30, range=(10,200))\n",
        "plt.title('Площадь квартир')\n",
        "plt.xlabel('Квадратные метры')\n",
        "plt.ylabel('Количество квартир')\n",
        "plt.show()"
      ],
      "metadata": {
        "colab": {
          "base_uri": "https://localhost:8080/",
          "height": 0
        },
        "id": "gpaBJdDR9Jbx",
        "outputId": "7c9d43b0-1dc8-41fd-b4b7-84152a127050"
      },
      "execution_count": 237,
      "outputs": [
        {
          "output_type": "display_data",
          "data": {
            "text/plain": [
              "<Figure size 432x288 with 1 Axes>"
            ],
            "image/png": "[encoded data removed]"
          },
          "metadata": {
            "needs_background": "light"
          }
        }
      ]
    },
    {
      "cell_type": "markdown",
      "source": [
        "### Жилая площадь\n",
        "В жилой площади тоже все логично. Первый пик значений это квартиры и комнаты в малосемейках и общежитиях. Следующий пик однокомнатные квартиры и небольшие двухкомнатные"
      ],
      "metadata": {
        "id": "-Ex9eKm-JTRr"
      }
    },
    {
      "cell_type": "code",
      "source": [
        "# Построим гистограмму для living_area\n",
        "plt.hist(data['living_area'], bins=70, range=(10,80))\n",
        "plt.title('Жилая площадь')\n",
        "plt.xlabel('Квадратные метры')\n",
        "plt.ylabel('Количество квартир')\n",
        "plt.show()"
      ],
      "metadata": {
        "colab": {
          "base_uri": "https://localhost:8080/",
          "height": 0
        },
        "id": "lzhdrEssLAuW",
        "outputId": "248c960c-3649-4e9e-8b04-16faac9d9ca3"
      },
      "execution_count": 238,
      "outputs": [
        {
          "output_type": "display_data",
          "data": {
            "text/plain": [
              "<Figure size 432x288 with 1 Axes>"
            ],
            "image/png": "[encoded data removed]"
          },
          "metadata": {
            "needs_background": "light"
          }
        }
      ]
    },
    {
      "cell_type": "markdown",
      "source": [
        "### Площадь кухни\n",
        "Последний график показывающий метраж, это площадь кухни. На нем мы тоже видим вполне ожидаемые значения"
      ],
      "metadata": {
        "id": "Np_gxUESJkl9"
      }
    },
    {
      "cell_type": "code",
      "source": [
        "#Построим гистограмму для kitchen_area\n",
        "plt.hist(data['kitchen_area'], bins=30, range=(0,30))\n",
        "plt.title('Площадь кухни')\n",
        "plt.xlabel('Квадратные метры')\n",
        "plt.ylabel('Количество квартир')\n",
        "plt.show()"
      ],
      "metadata": {
        "colab": {
          "base_uri": "https://localhost:8080/",
          "height": 0
        },
        "id": "aVMyeBpWLps-",
        "outputId": "412a9415-951e-4a93-d5b9-ffe4aae22610"
      },
      "execution_count": 239,
      "outputs": [
        {
          "output_type": "display_data",
          "data": {
            "text/plain": [
              "<Figure size 432x288 with 1 Axes>"
            ],
            "image/png": "[encoded data removed]"
          },
          "metadata": {
            "needs_background": "light"
          }
        }
      ]
    },
    {
      "cell_type": "markdown",
      "source": [
        "### Цена объекта\n",
        "График стоимости объективно дополняет предыдущие три графика с распределением квадратных метров площади"
      ],
      "metadata": {
        "id": "qLfVaRt0G6pl"
      }
    },
    {
      "cell_type": "code",
      "source": [
        "# Построим гистограмму для last_price\n",
        "plt.hist(data['last_price'], bins=30, range=(0,20000000))\n",
        "plt.title('Стоимость квартир')\n",
        "plt.xlabel('Стоимость')\n",
        "plt.ylabel('Количество квартир')\n",
        "plt.show()"
      ],
      "metadata": {
        "colab": {
          "base_uri": "https://localhost:8080/",
          "height": 0
        },
        "id": "Ygd1xZu4HIg5",
        "outputId": "ed3f3541-df54-4478-c625-06eb994b324b"
      },
      "execution_count": 240,
      "outputs": [
        {
          "output_type": "display_data",
          "data": {
            "text/plain": [
              "<Figure size 432x288 with 1 Axes>"
            ],
            "image/png": "[encoded data removed]"
          },
          "metadata": {
            "needs_background": "light"
          }
        }
      ]
    },
    {
      "cell_type": "markdown",
      "source": [
        "### Количество комнат\n",
        "Однокомнатных квартир продается примерно столькоже сколько и двух комнатных, это подтверждает и график распределения жилой площади на котором присутствует два пика значений "
      ],
      "metadata": {
        "id": "TkL6wTmPJq0E"
      }
    },
    {
      "cell_type": "code",
      "source": [
        "# Построим гистограмму для rooms\n",
        "plt.hist(data['rooms'], bins=7, range=(1,7))\n",
        "plt.title('Комнаты')\n",
        "plt.xlabel('Количество комнат')\n",
        "plt.ylabel('Количество квартир')\n",
        "plt.show()"
      ],
      "metadata": {
        "colab": {
          "base_uri": "https://localhost:8080/",
          "height": 0
        },
        "id": "cnUoj5ltLzyi",
        "outputId": "2274d907-83f3-4f90-b710-e69fa5d9963c"
      },
      "execution_count": 241,
      "outputs": [
        {
          "output_type": "display_data",
          "data": {
            "text/plain": [
              "<Figure size 432x288 with 1 Axes>"
            ],
            "image/png": "[encoded data removed]"
          },
          "metadata": {
            "needs_background": "light"
          }
        }
      ]
    },
    {
      "cell_type": "markdown",
      "source": [
        "### Высота потолков\n",
        "Если при строительстве многоэтажного дома, выдерживать высоту потолков в 2,5 - 2,7 метра, то мы сможем построить больше этажей а соотетсвенно продать больше квартир"
      ],
      "metadata": {
        "id": "33fifE1dKBET"
      }
    },
    {
      "cell_type": "code",
      "source": [
        "# Построим гистограмму для ceiling_height\n",
        "plt.hist(data['ceiling_height'], bins=10)\n",
        "plt.title('Высота потолков')\n",
        "plt.xlabel('Метры')\n",
        "plt.ylabel('Количество квартир')\n",
        "plt.show()"
      ],
      "metadata": {
        "colab": {
          "base_uri": "https://localhost:8080/",
          "height": 0
        },
        "id": "oHNyP0yJL7bw",
        "outputId": "d2bf16c8-e860-44c3-ca89-82b24295955d"
      },
      "execution_count": 242,
      "outputs": [
        {
          "output_type": "display_data",
          "data": {
            "text/plain": [
              "<Figure size 432x288 with 1 Axes>"
            ],
            "image/png": "[encoded data removed]"
          },
          "metadata": {
            "needs_background": "light"
          }
        }
      ]
    },
    {
      "cell_type": "markdown",
      "source": [
        "### Этаж квартиры\n",
        "Ниже приведен график с типами этажей квартир и он указывает на то что больше объявлений среди продажи какраз не на первои и не на последнем этажах. А учитывая что Санкт-Петербург не город небоскребов, то такое распределение выглядит вполне объяснимо"
      ],
      "metadata": {
        "id": "iuVfuC9gKK6d"
      }
    },
    {
      "cell_type": "code",
      "source": [
        "# Построим гистограмму для floor\n",
        "plt.hist(data['floor'], bins=20)\n",
        "plt.title('Этаж квартиры')\n",
        "plt.xlabel('Этажи')\n",
        "plt.ylabel('Количество квартир')\n",
        "plt.show()"
      ],
      "metadata": {
        "colab": {
          "base_uri": "https://localhost:8080/",
          "height": 0
        },
        "id": "zUQfm4uHMkdf",
        "outputId": "1e5a731a-7337-475c-84f0-8bb9a8ea7c4d"
      },
      "execution_count": 243,
      "outputs": [
        {
          "output_type": "display_data",
          "data": {
            "text/plain": [
              "<Figure size 432x288 with 1 Axes>"
            ],
            "image/png": "[encoded data removed]"
          },
          "metadata": {
            "needs_background": "light"
          }
        }
      ]
    },
    {
      "cell_type": "markdown",
      "source": [
        "### Тип этажа квартиры\n",
        "График выше говорит о том же. Всетаки между первым и последним как минимум 3 этажа, а значит и вероятность попасть в категорию \"другой\", гораздо выше"
      ],
      "metadata": {
        "id": "5cYw1qAAKPBZ"
      }
    },
    {
      "cell_type": "code",
      "source": [
        "# Построим гистограмму для group_floor\n",
        "plt.hist(data['group_floor'], bins=20)\n",
        "plt.title('Типы этажей')\n",
        "plt.xlabel('Этажи')\n",
        "plt.ylabel('Количество квартир')\n",
        "plt.show()"
      ],
      "metadata": {
        "colab": {
          "base_uri": "https://localhost:8080/",
          "height": 0
        },
        "id": "9b0fNpm-NIGN",
        "outputId": "f1de4ad4-d683-4635-9a2b-b498ac221458"
      },
      "execution_count": 244,
      "outputs": [
        {
          "output_type": "display_data",
          "data": {
            "text/plain": [
              "<Figure size 432x288 with 1 Axes>"
            ],
            "image/png": "[encoded data removed]"
          },
          "metadata": {
            "needs_background": "light"
          }
        }
      ]
    },
    {
      "cell_type": "markdown",
      "source": [
        "### Количество этажей в доме\n",
        "А вот и третий график, который показывает что большинство объявлений в пятиэтажных домах, что подверждает выводы сделанные в предыдущих двух графиках"
      ],
      "metadata": {
        "id": "4_m9tbXHKUEZ"
      }
    },
    {
      "cell_type": "code",
      "source": [
        "# Построим гистограмму для floors_total\n",
        "plt.hist(data['floors_total'], bins=20)\n",
        "plt.title('Всего этажей в доме')\n",
        "plt.xlabel('Этажи')\n",
        "plt.ylabel('Количество квартир')\n",
        "plt.show()"
      ],
      "metadata": {
        "colab": {
          "base_uri": "https://localhost:8080/",
          "height": 0
        },
        "id": "HlA4FwfKOJPc",
        "outputId": "445a7eec-78b0-4cae-9b5a-eca59d0500cb"
      },
      "execution_count": 245,
      "outputs": [
        {
          "output_type": "display_data",
          "data": {
            "text/plain": [
              "<Figure size 432x288 with 1 Axes>"
            ],
            "image/png": "[encoded data removed]"
          },
          "metadata": {
            "needs_background": "light"
          }
        }
      ]
    },
    {
      "cell_type": "markdown",
      "source": [
        "### Расстояние до центра\n",
        "10 - 20 километров до центра города многовато"
      ],
      "metadata": {
        "id": "F1h9xIZNKZMX"
      }
    },
    {
      "cell_type": "code",
      "source": [
        "# Построим гистограмму для city_centers_nearest\n",
        "plt.hist(data['city_centers_nearest'], bins=20)\n",
        "plt.title('Расстояние до центра города')\n",
        "plt.xlabel('Метры')\n",
        "plt.ylabel('Количество квартир')\n",
        "plt.show()"
      ],
      "metadata": {
        "colab": {
          "base_uri": "https://localhost:8080/",
          "height": 0
        },
        "id": "_w2JhaKvO2Kn",
        "outputId": "3d82b03b-24f6-45f2-aa18-2eeb7f491a7e"
      },
      "execution_count": 246,
      "outputs": [
        {
          "output_type": "display_data",
          "data": {
            "text/plain": [
              "<Figure size 432x288 with 1 Axes>"
            ],
            "image/png": "[encoded data removed]"
          },
          "metadata": {
            "needs_background": "light"
          }
        }
      ]
    },
    {
      "cell_type": "markdown",
      "source": [
        "### Расстояние до аэропорта\n",
        "Всетаки аэропорт это не центр города и такая удаленнасть выглядит вполне естественно"
      ],
      "metadata": {
        "id": "HgUgIVjAKdhR"
      }
    },
    {
      "cell_type": "code",
      "source": [
        "# Построим гистограмму для airports_nearest\n",
        "plt.hist(data['airports_nearest'], bins=20)\n",
        "plt.title('Расстояние до аэропорта')\n",
        "plt.xlabel('Метры')\n",
        "plt.ylabel('Количество квартир')\n",
        "plt.show()"
      ],
      "metadata": {
        "colab": {
          "base_uri": "https://localhost:8080/",
          "height": 0
        },
        "id": "ajlWp1VTPgVa",
        "outputId": "c70063c5-c2f0-487b-8c3e-ff1aa3a04fdb"
      },
      "execution_count": 247,
      "outputs": [
        {
          "output_type": "display_data",
          "data": {
            "text/plain": [
              "<Figure size 432x288 with 1 Axes>"
            ],
            "image/png": "[encoded data removed]"
          },
          "metadata": {
            "needs_background": "light"
          }
        }
      ]
    },
    {
      "cell_type": "markdown",
      "source": [
        "### Расстояние до парка\n",
        "Распределение на графике показывает, что парки к сожалению доступны не всем"
      ],
      "metadata": {
        "id": "8hTPj64eKiNX"
      }
    },
    {
      "cell_type": "code",
      "source": [
        "# Построим гистограмму для parks_nearest\n",
        "plt.hist(data['parks_nearest'], bins=20)\n",
        "plt.title('Расстояние до парка')\n",
        "plt.xlabel('Метры')\n",
        "plt.ylabel('Количество квартир')\n",
        "plt.show()"
      ],
      "metadata": {
        "colab": {
          "base_uri": "https://localhost:8080/",
          "height": 0
        },
        "id": "4XeEqmllP5dg",
        "outputId": "a06aa0db-2e03-4b31-cd81-535bd7241f94"
      },
      "execution_count": 248,
      "outputs": [
        {
          "output_type": "display_data",
          "data": {
            "text/plain": [
              "<Figure size 432x288 with 1 Axes>"
            ],
            "image/png": "[encoded data removed]"
          },
          "metadata": {
            "needs_background": "light"
          }
        }
      ]
    },
    {
      "cell_type": "markdown",
      "source": [
        "### День публикации\n",
        "Если взять во внимание что продавец чаще обращается за помощью с продажей квартиры к риэлтору, то распределение по дням недели какраз указывает на то что размещаются эти объявления в рабочие дни недели"
      ],
      "metadata": {
        "id": "ygavV9gCKxBQ"
      }
    },
    {
      "cell_type": "code",
      "source": [
        "# Построим гистограмму для day_public\n",
        "plt.hist(data['day_public'], bins=20)\n",
        "plt.title('День публикации')\n",
        "plt.xlabel('Дни недели')\n",
        "plt.ylabel('Количество квартир')\n",
        "plt.show()"
      ],
      "metadata": {
        "colab": {
          "base_uri": "https://localhost:8080/",
          "height": 0
        },
        "id": "A8oJvZIkQmkA",
        "outputId": "0823b554-602f-4185-f753-97ac970973cb"
      },
      "execution_count": 249,
      "outputs": [
        {
          "output_type": "display_data",
          "data": {
            "text/plain": [
              "<Figure size 432x288 with 1 Axes>"
            ],
            "image/png": "[encoded data removed]"
          },
          "metadata": {
            "needs_background": "light"
          }
        }
      ]
    },
    {
      "cell_type": "markdown",
      "source": [
        "### Месяц публикации\n",
        "Майские праздники да и собственно лето не время для продажи квартиры, лучше подумать об отпуске. В новогодние праздники тоже не хочется этим заниматься, а вот вторая половина зимы, вполне хорошее время"
      ],
      "metadata": {
        "id": "LKCRQDesRXGM"
      }
    },
    {
      "cell_type": "code",
      "source": [
        "# Построим гистограмму для  month_public\n",
        "plt.hist(data['month_public'], bins=20)\n",
        "plt.title('Месяц публикации')\n",
        "plt.xlabel('Месяцы')\n",
        "plt.ylabel('Количество квартир')\n",
        "plt.show()"
      ],
      "metadata": {
        "colab": {
          "base_uri": "https://localhost:8080/",
          "height": 0
        },
        "id": "WG68ZoQbRUQZ",
        "outputId": "396c0745-8d30-4e39-fa60-976edc89f1a6"
      },
      "execution_count": 250,
      "outputs": [
        {
          "output_type": "display_data",
          "data": {
            "text/plain": [
              "<Figure size 432x288 with 1 Axes>"
            ],
            "image/png": "[encoded data removed]"
          },
          "metadata": {
            "needs_background": "light"
          }
        }
      ]
    },
    {
      "cell_type": "markdown",
      "source": [
        "## Изучим как быстро продавались квартиры\n"
      ],
      "metadata": {
        "id": "qIUBgCskk14j"
      }
    },
    {
      "cell_type": "code",
      "source": [
        "#Построим гистограмму для days_exposition\n",
        "data.hist('days_exposition', bins=100)\n",
        "plt.xlabel('Количество дней')\n",
        "plt.ylabel('Количество квартир')\n",
        "plt.show()\n",
        "print()\n",
        "# Построим гистограмму для days_exposition ограничив срок продажи в 100 дней\n",
        "data.hist('days_exposition', bins=100, range = (0,100))\n",
        "plt.xlabel('Количество дней')\n",
        "plt.ylabel('Количество квартир')\n",
        "plt.show()\n",
        "print()\n",
        "# Посмотрим на основные показатели. Можно применить .describe()\n",
        "print('Среднее время продажи квартиры в днях:',int(data['days_exposition'].mean()))\n",
        "print('Медианное время продажи квартиры в днях:',int(data['days_exposition'].median()))\n",
        "print('Минимальное время продажи квартиры в днях:',int(data['days_exposition'].min()))\n",
        "print('Максимальное время продажи квартиры в днях:',int(data['days_exposition'].max()))"
      ],
      "metadata": {
        "colab": {
          "base_uri": "https://localhost:8080/",
          "height": 0
        },
        "id": "CHE4Ns_Nk-uI",
        "outputId": "aef9c824-179c-4a39-d2a5-08d5dd4e785c"
      },
      "execution_count": 251,
      "outputs": [
        {
          "output_type": "display_data",
          "data": {
            "text/plain": [
              "<Figure size 432x288 with 1 Axes>"
            ],
            "image/png": "[encoded data removed]"
          },
          "metadata": {
            "needs_background": "light"
          }
        },
        {
          "output_type": "stream",
          "name": "stdout",
          "text": [
            "\n"
          ]
        },
        {
          "output_type": "display_data",
          "data": {
            "text/plain": [
              "<Figure size 432x288 with 1 Axes>"
            ],
            "image/png": "[encoded data removed]"
          },
          "metadata": {
            "needs_background": "light"
          }
        },
        {
          "output_type": "stream",
          "name": "stdout",
          "text": [
            "\n",
            "Среднее время продажи квартиры в днях: 180\n",
            "Медианное время продажи квартиры в днях: 95\n",
            "Минимальное время продажи квартиры в днях: 1\n",
            "Максимальное время продажи квартиры в днях: 1580\n"
          ]
        }
      ]
    },
    {
      "cell_type": "markdown",
      "source": [
        "### Вывод \n",
        "Размещая объявление по рыночной цене о продаже ликвидного объекта недвижимости, такой объект уходит очень быстро. Но оформление сделки и сопутствующие процедуры, занимают время, а продавец часто снимает объявление после того как сделка закрыта. На это указывает и гистограмма в диапазоне от 0 до 100 дней.\n",
        "Поэтому к быстрой продаже я бы отнес сделки совершенные до 40 дней.\n",
        "Необычно долгими продажами, все что свыше года.\n",
        "\n"
      ],
      "metadata": {
        "id": "fKRhXWE1s6cs"
      }
    },
    {
      "cell_type": "markdown",
      "source": [
        "## Изучим факторы влияющие на общую стоимость объекта"
      ],
      "metadata": {
        "id": "1Gb3XdYdyWGl"
      }
    },
    {
      "cell_type": "code",
      "source": [
        "# Построим гистограмму\n",
        "data.pivot_table(index='total_area', values='last_price').plot(grid=True, style='o', figsize=(5, 5))\n",
        "plt.show()\n",
        "print()\n",
        "print('Корреляция цены и общей площади:','\\n')\n",
        "print(data.pivot_table(index='floor', values=['total_area', 'last_price']).corr(),'\\n')"
      ],
      "metadata": {
        "colab": {
          "base_uri": "https://localhost:8080/",
          "height": 0
        },
        "id": "O0hkihUh19mo",
        "outputId": "2bfdfe7b-73b1-42d8-ac2a-fc63378d1a69"
      },
      "execution_count": 252,
      "outputs": [
        {
          "output_type": "display_data",
          "data": {
            "text/plain": [
              "<Figure size 360x360 with 1 Axes>"
            ],
            "image/png": "[encoded data removed]"
          },
          "metadata": {
            "needs_background": "light"
          }
        },
        {
          "output_type": "stream",
          "name": "stdout",
          "text": [
            "\n",
            "Корреляция цены и общей площади: \n",
            "\n",
            "            last_price  total_area\n",
            "last_price    1.000000    0.878731\n",
            "total_area    0.878731    1.000000 \n",
            "\n"
          ]
        }
      ]
    },
    {
      "cell_type": "code",
      "source": [
        "# Построим гистограмму\n",
        "data.pivot_table(index='living_area', values='last_price').plot(grid=True, style='o', figsize=(5, 5))\n",
        "plt.show()\n",
        "print()\n",
        "print('Корреляция цены и жилой площади:','\\n')\n",
        "print(data.pivot_table(index='floor', values=['living_area', 'last_price']).corr(),'\\n')"
      ],
      "metadata": {
        "colab": {
          "base_uri": "https://localhost:8080/",
          "height": 0
        },
        "id": "nz1VuEAq239i",
        "outputId": "7261f4cc-8b8c-4df2-a0d0-9158166f1e5e"
      },
      "execution_count": 253,
      "outputs": [
        {
          "output_type": "display_data",
          "data": {
            "text/plain": [
              "<Figure size 360x360 with 1 Axes>"
            ],
            "image/png": "[encoded data removed]"
          },
          "metadata": {
            "needs_background": "light"
          }
        },
        {
          "output_type": "stream",
          "name": "stdout",
          "text": [
            "\n",
            "Корреляция цены и жилой площади: \n",
            "\n",
            "             last_price  living_area\n",
            "last_price     1.000000     0.750517\n",
            "living_area    0.750517     1.000000 \n",
            "\n"
          ]
        }
      ]
    },
    {
      "cell_type": "code",
      "source": [
        "# Построим гистограмму\n",
        "data.pivot_table(index='kitchen_area', values='last_price').plot(grid=True, style='o', figsize=(5, 5))\n",
        "plt.show()\n",
        "print()\n",
        "print('Корреляция цены и жилой площади:','\\n')\n",
        "print(data.pivot_table(index='floor', values=['kitchen_area', 'last_price']).corr(),'\\n')"
      ],
      "metadata": {
        "colab": {
          "base_uri": "https://localhost:8080/",
          "height": 0
        },
        "id": "o0lw-heP3FcO",
        "outputId": "49cf8103-a122-4694-ad24-94cc0abf78d9"
      },
      "execution_count": 254,
      "outputs": [
        {
          "output_type": "display_data",
          "data": {
            "text/plain": [
              "<Figure size 360x360 with 1 Axes>"
            ],
            "image/png": "[encoded data removed]"
          },
          "metadata": {
            "needs_background": "light"
          }
        },
        {
          "output_type": "stream",
          "name": "stdout",
          "text": [
            "\n",
            "Корреляция цены и жилой площади: \n",
            "\n",
            "              kitchen_area  last_price\n",
            "kitchen_area      1.000000    0.343889\n",
            "last_price        0.343889    1.000000 \n",
            "\n"
          ]
        }
      ]
    },
    {
      "cell_type": "code",
      "source": [
        "# Построим гистограмму\n",
        "data.pivot_table(index='rooms',values='last_price').plot(grid=True, style='o-', figsize=(5, 5))\n",
        "plt.show()\n",
        "print('Корреляция цены и числа комнат:','\\n')\n",
        "print(data.pivot_table(index='floor', values=['rooms', 'last_price']).corr(),'\\n')"
      ],
      "metadata": {
        "colab": {
          "base_uri": "https://localhost:8080/",
          "height": 0
        },
        "id": "RgMO9eNM4H75",
        "outputId": "7f8bd7bd-b875-4b90-9acd-2ad577a1501b"
      },
      "execution_count": 255,
      "outputs": [
        {
          "output_type": "display_data",
          "data": {
            "text/plain": [
              "<Figure size 360x360 with 1 Axes>"
            ],
            "image/png": "[encoded data removed]"
          },
          "metadata": {
            "needs_background": "light"
          }
        },
        {
          "output_type": "stream",
          "name": "stdout",
          "text": [
            "Корреляция цены и числа комнат: \n",
            "\n",
            "            last_price    rooms\n",
            "last_price     1.00000  0.60987\n",
            "rooms          0.60987  1.00000 \n",
            "\n"
          ]
        }
      ]
    },
    {
      "cell_type": "code",
      "source": [
        "# Построим гистограмму\n",
        "data.pivot_table(index='group_floor', values='last_price', aggfunc='median').plot(grid=True, style='o-', figsize=(5, 5))\n",
        "plt.show()"
      ],
      "metadata": {
        "colab": {
          "base_uri": "https://localhost:8080/",
          "height": 0
        },
        "id": "k6ofClLglYii",
        "outputId": "7a4c12f3-35e4-4791-fe3b-78f9975c4066"
      },
      "execution_count": 256,
      "outputs": [
        {
          "output_type": "display_data",
          "data": {
            "text/plain": [
              "<Figure size 360x360 with 1 Axes>"
            ],
            "image/png": "[encoded data removed]"
          },
          "metadata": {
            "needs_background": "light"
          }
        }
      ]
    },
    {
      "cell_type": "code",
      "source": [
        "# Построим гистограмму\n",
        "data.pivot_table(index='day_public', values='last_price').plot(grid=True, style='o-', figsize=(5, 5))\n",
        "plt.show()"
      ],
      "metadata": {
        "colab": {
          "base_uri": "https://localhost:8080/",
          "height": 0
        },
        "id": "BcEaxyKVpeqr",
        "outputId": "3ee83ff6-2b29-4cb9-e5c5-2660a9fdaddf"
      },
      "execution_count": 257,
      "outputs": [
        {
          "output_type": "display_data",
          "data": {
            "text/plain": [
              "<Figure size 360x360 with 1 Axes>"
            ],
            "image/png": "[encoded data removed]"
          },
          "metadata": {
            "needs_background": "light"
          }
        }
      ]
    },
    {
      "cell_type": "code",
      "source": [
        "# Построим гистограмму\n",
        "data.pivot_table(index='month_public', values='last_price').plot(grid=True, style='o-', figsize=(5, 5))\n",
        "plt.show()"
      ],
      "metadata": {
        "colab": {
          "base_uri": "https://localhost:8080/",
          "height": 0
        },
        "id": "gfKwFHx_p-iM",
        "outputId": "3cf1844d-962b-4ff5-f835-5cb5d0670c50"
      },
      "execution_count": 258,
      "outputs": [
        {
          "output_type": "display_data",
          "data": {
            "text/plain": [
              "<Figure size 360x360 with 1 Axes>"
            ],
            "image/png": "[encoded data removed]"
          },
          "metadata": {
            "needs_background": "light"
          }
        }
      ]
    },
    {
      "cell_type": "code",
      "source": [
        "# Построим гистограмму\n",
        "data.pivot_table(index='year_public', values='last_price').plot(grid=True, style='o-', figsize=(5, 5))\n",
        "plt.show()"
      ],
      "metadata": {
        "colab": {
          "base_uri": "https://localhost:8080/",
          "height": 0
        },
        "id": "JLPPdifaqE26",
        "outputId": "2873edbb-e68c-469b-ef8d-948289442cd0"
      },
      "execution_count": 259,
      "outputs": [
        {
          "output_type": "display_data",
          "data": {
            "text/plain": [
              "<Figure size 360x360 with 1 Axes>"
            ],
            "image/png": "[encoded data removed]"
          },
          "metadata": {
            "needs_background": "light"
          }
        }
      ]
    },
    {
      "cell_type": "markdown",
      "source": [
        "## Вывод\n",
        "- Ожидаемо максимальная корреляция наблюдается в пунктах свзанных с площадью. Общая площадь объекта - это главный критерий влияющий на стоимость, ведь именно от количества квадратных метров формируется цена объекта. Немногим ниже показатели корреляции у жилой площади, площади кухни и количестве комнат. Все эти критерии зависят от общей площади объекта. \n",
        "- Покупатели неохотно приобретают недвижимость на первом этаже, предпочитая выбрать другой этаж или последний.\n",
        "- День и месяц  публикации не влияют на полную стоимость объекта.\n",
        "- График года публикации показывает пиковое значение в 2014 году, после которого начался спад, вероятно вызванный санкциями наложенными на РФ "
      ],
      "metadata": {
        "id": "4S_PNGtuDQVx"
      }
    },
    {
      "cell_type": "markdown",
      "source": [
        "## Посчитаем среднюю цену одного квадратного метра"
      ],
      "metadata": {
        "id": "maLZgo1MDBk-"
      }
    },
    {
      "cell_type": "code",
      "source": [
        "# Построим сводную таблицу с количеством и средней стоимостью по населенным пунктам\n",
        "locality_pivot_table = data.pivot_table(index='locality_name', values='prise_square_m', aggfunc=['count', 'mean'])\n",
        "locality_pivot_table.columns=['count', 'mean']\n",
        "locality_pivot_table = locality_pivot_table.sort_values('count', ascending=False).head(10)\n",
        "locality_pivot_table"
      ],
      "metadata": {
        "colab": {
          "base_uri": "https://localhost:8080/",
          "height": 0
        },
        "id": "EzayUwyCDJlf",
        "outputId": "d4e6e1f9-7899-4577-d50b-6e8954b7a14f"
      },
      "execution_count": 260,
      "outputs": [
        {
          "output_type": "execute_result",
          "data": {
            "text/plain": [
              "                   count           mean\n",
              "locality_name                          \n",
              "санкт-петербург    15508  113516.674887\n",
              "поселок мурино       552   85629.568678\n",
              "поселок шушары       439   78551.344545\n",
              "всеволожск           396   68670.459639\n",
              "пушкин               365  103079.873482\n",
              "колпино              336   75352.475583\n",
              "поселок парголово    326   90205.423758\n",
              "гатчина              307   68746.146763\n",
              "деревня кудрово      299   92473.547576\n",
              "выборг               234   58190.128008"
            ],
            "text/html": [
              "\n",
              "  <div id=\"df-0d9e362f-8158-4328-b5c2-e66926dab359\">\n",
              "    <div class=\"colab-df-container\">\n",
              "      <div>\n",
              "<style scoped>\n",
              "    .dataframe tbody tr th:only-of-type {\n",
              "        vertical-align: middle;\n",
              "    }\n",
              "\n",
              "    .dataframe tbody tr th {\n",
              "        vertical-align: top;\n",
              "    }\n",
              "\n",
              "    .dataframe thead th {\n",
              "        text-align: right;\n",
              "    }\n",
              "</style>\n",
              "<table border=\"1\" class=\"dataframe\">\n",
              "  <thead>\n",
              "    <tr style=\"text-align: right;\">\n",
              "      <th></th>\n",
              "      <th>count</th>\n",
              "      <th>mean</th>\n",
              "    </tr>\n",
              "    <tr>\n",
              "      <th>locality_name</th>\n",
              "      <th></th>\n",
              "      <th></th>\n",
              "    </tr>\n",
              "  </thead>\n",
              "  <tbody>\n",
              "    <tr>\n",
              "      <th>санкт-петербург</th>\n",
              "      <td>15508</td>\n",
              "      <td>113516.674887</td>\n",
              "    </tr>\n",
              "    <tr>\n",
              "      <th>поселок мурино</th>\n",
              "      <td>552</td>\n",
              "      <td>85629.568678</td>\n",
              "    </tr>\n",
              "    <tr>\n",
              "      <th>поселок шушары</th>\n",
              "      <td>439</td>\n",
              "      <td>78551.344545</td>\n",
              "    </tr>\n",
              "    <tr>\n",
              "      <th>всеволожск</th>\n",
              "      <td>396</td>\n",
              "      <td>68670.459639</td>\n",
              "    </tr>\n",
              "    <tr>\n",
              "      <th>пушкин</th>\n",
              "      <td>365</td>\n",
              "      <td>103079.873482</td>\n",
              "    </tr>\n",
              "    <tr>\n",
              "      <th>колпино</th>\n",
              "      <td>336</td>\n",
              "      <td>75352.475583</td>\n",
              "    </tr>\n",
              "    <tr>\n",
              "      <th>поселок парголово</th>\n",
              "      <td>326</td>\n",
              "      <td>90205.423758</td>\n",
              "    </tr>\n",
              "    <tr>\n",
              "      <th>гатчина</th>\n",
              "      <td>307</td>\n",
              "      <td>68746.146763</td>\n",
              "    </tr>\n",
              "    <tr>\n",
              "      <th>деревня кудрово</th>\n",
              "      <td>299</td>\n",
              "      <td>92473.547576</td>\n",
              "    </tr>\n",
              "    <tr>\n",
              "      <th>выборг</th>\n",
              "      <td>234</td>\n",
              "      <td>58190.128008</td>\n",
              "    </tr>\n",
              "  </tbody>\n",
              "</table>\n",
              "</div>\n",
              "      <button class=\"colab-df-convert\" onclick=\"convertToInteractive('df-0d9e362f-8158-4328-b5c2-e66926dab359')\"\n",
              "              title=\"Convert this dataframe to an interactive table.\"\n",
              "              style=\"display:none;\">\n",
              "        \n",
              "  <svg xmlns=\"http://www.w3.org/2000/svg\" height=\"24px\"viewBox=\"0 0 24 24\"\n",
              "       width=\"24px\">\n",
              "    <path d=\"M0 0h24v24H0V0z\" fill=\"none\"/>\n",
              "    <path d=\"M18.56 5.44l.94 2.06.94-2.06 2.06-.94-2.06-.94-.94-2.06-.94 2.06-2.06.94zm-11 1L8.5 8.5l.94-2.06 2.06-.94-2.06-.94L8.5 2.5l-.94 2.06-2.06.94zm10 10l.94 2.06.94-2.06 2.06-.94-2.06-.94-.94-2.06-.94 2.06-2.06.94z\"/><path d=\"M17.41 7.96l-1.37-1.37c-.4-.4-.92-.59-1.43-.59-.52 0-1.04.2-1.43.59L10.3 9.45l-7.72 7.72c-.78.78-.78 2.05 0 2.83L4 21.41c.39.39.9.59 1.41.59.51 0 1.02-.2 1.41-.59l7.78-7.78 2.81-2.81c.8-.78.8-2.07 0-2.86zM5.41 20L4 18.59l7.72-7.72 1.47 1.35L5.41 20z\"/>\n",
              "  </svg>\n",
              "      </button>\n",
              "      \n",
              "  <style>\n",
              "    .colab-df-container {\n",
              "      display:flex;\n",
              "      flex-wrap:wrap;\n",
              "      gap: 12px;\n",
              "    }\n",
              "\n",
              "    .colab-df-convert {\n",
              "      background-color: #E8F0FE;\n",
              "      border: none;\n",
              "      border-radius: 50%;\n",
              "      cursor: pointer;\n",
              "      display: none;\n",
              "      fill: #1967D2;\n",
              "      height: 32px;\n",
              "      padding: 0 0 0 0;\n",
              "      width: 32px;\n",
              "    }\n",
              "\n",
              "    .colab-df-convert:hover {\n",
              "      background-color: #E2EBFA;\n",
              "      box-shadow: 0px 1px 2px rgba(60, 64, 67, 0.3), 0px 1px 3px 1px rgba(60, 64, 67, 0.15);\n",
              "      fill: #174EA6;\n",
              "    }\n",
              "\n",
              "    [theme=dark] .colab-df-convert {\n",
              "      background-color: #3B4455;\n",
              "      fill: #D2E3FC;\n",
              "    }\n",
              "\n",
              "    [theme=dark] .colab-df-convert:hover {\n",
              "      background-color: #434B5C;\n",
              "      box-shadow: 0px 1px 3px 1px rgba(0, 0, 0, 0.15);\n",
              "      filter: drop-shadow(0px 1px 2px rgba(0, 0, 0, 0.3));\n",
              "      fill: #FFFFFF;\n",
              "    }\n",
              "  </style>\n",
              "\n",
              "      <script>\n",
              "        const buttonEl =\n",
              "          document.querySelector('#df-0d9e362f-8158-4328-b5c2-e66926dab359 button.colab-df-convert');\n",
              "        buttonEl.style.display =\n",
              "          google.colab.kernel.accessAllowed ? 'block' : 'none';\n",
              "\n",
              "        async function convertToInteractive(key) {\n",
              "          const element = document.querySelector('#df-0d9e362f-8158-4328-b5c2-e66926dab359');\n",
              "          const dataTable =\n",
              "            await google.colab.kernel.invokeFunction('convertToInteractive',\n",
              "                                                     [key], {});\n",
              "          if (!dataTable) return;\n",
              "\n",
              "          const docLinkHtml = 'Like what you see? Visit the ' +\n",
              "            '<a target=\"_blank\" href=https://colab.research.google.com/notebooks/data_table.ipynb>data table notebook</a>'\n",
              "            + ' to learn more about interactive tables.';\n",
              "          element.innerHTML = '';\n",
              "          dataTable['output_type'] = 'display_data';\n",
              "          await google.colab.output.renderOutput(dataTable, element);\n",
              "          const docLink = document.createElement('div');\n",
              "          docLink.innerHTML = docLinkHtml;\n",
              "          element.appendChild(docLink);\n",
              "        }\n",
              "      </script>\n",
              "    </div>\n",
              "  </div>\n",
              "  "
            ]
          },
          "metadata": {},
          "execution_count": 260
        }
      ]
    },
    {
      "cell_type": "code",
      "source": [
        "# Самая высокая средняя стоимость\n",
        "locality_pivot_table[locality_pivot_table['mean'] == locality_pivot_table['mean'].max()]"
      ],
      "metadata": {
        "colab": {
          "base_uri": "https://localhost:8080/",
          "height": 0
        },
        "id": "_t2N5C7lZnt6",
        "outputId": "993c5a9d-eb78-402f-8d55-debb3e43fa6a"
      },
      "execution_count": 261,
      "outputs": [
        {
          "output_type": "execute_result",
          "data": {
            "text/plain": [
              "                 count           mean\n",
              "locality_name                        \n",
              "санкт-петербург  15508  113516.674887"
            ],
            "text/html": [
              "\n",
              "  <div id=\"df-bcd25ee9-db8c-427d-8f70-9d6954eceb6c\">\n",
              "    <div class=\"colab-df-container\">\n",
              "      <div>\n",
              "<style scoped>\n",
              "    .dataframe tbody tr th:only-of-type {\n",
              "        vertical-align: middle;\n",
              "    }\n",
              "\n",
              "    .dataframe tbody tr th {\n",
              "        vertical-align: top;\n",
              "    }\n",
              "\n",
              "    .dataframe thead th {\n",
              "        text-align: right;\n",
              "    }\n",
              "</style>\n",
              "<table border=\"1\" class=\"dataframe\">\n",
              "  <thead>\n",
              "    <tr style=\"text-align: right;\">\n",
              "      <th></th>\n",
              "      <th>count</th>\n",
              "      <th>mean</th>\n",
              "    </tr>\n",
              "    <tr>\n",
              "      <th>locality_name</th>\n",
              "      <th></th>\n",
              "      <th></th>\n",
              "    </tr>\n",
              "  </thead>\n",
              "  <tbody>\n",
              "    <tr>\n",
              "      <th>санкт-петербург</th>\n",
              "      <td>15508</td>\n",
              "      <td>113516.674887</td>\n",
              "    </tr>\n",
              "  </tbody>\n",
              "</table>\n",
              "</div>\n",
              "      <button class=\"colab-df-convert\" onclick=\"convertToInteractive('df-bcd25ee9-db8c-427d-8f70-9d6954eceb6c')\"\n",
              "              title=\"Convert this dataframe to an interactive table.\"\n",
              "              style=\"display:none;\">\n",
              "        \n",
              "  <svg xmlns=\"http://www.w3.org/2000/svg\" height=\"24px\"viewBox=\"0 0 24 24\"\n",
              "       width=\"24px\">\n",
              "    <path d=\"M0 0h24v24H0V0z\" fill=\"none\"/>\n",
              "    <path d=\"M18.56 5.44l.94 2.06.94-2.06 2.06-.94-2.06-.94-.94-2.06-.94 2.06-2.06.94zm-11 1L8.5 8.5l.94-2.06 2.06-.94-2.06-.94L8.5 2.5l-.94 2.06-2.06.94zm10 10l.94 2.06.94-2.06 2.06-.94-2.06-.94-.94-2.06-.94 2.06-2.06.94z\"/><path d=\"M17.41 7.96l-1.37-1.37c-.4-.4-.92-.59-1.43-.59-.52 0-1.04.2-1.43.59L10.3 9.45l-7.72 7.72c-.78.78-.78 2.05 0 2.83L4 21.41c.39.39.9.59 1.41.59.51 0 1.02-.2 1.41-.59l7.78-7.78 2.81-2.81c.8-.78.8-2.07 0-2.86zM5.41 20L4 18.59l7.72-7.72 1.47 1.35L5.41 20z\"/>\n",
              "  </svg>\n",
              "      </button>\n",
              "      \n",
              "  <style>\n",
              "    .colab-df-container {\n",
              "      display:flex;\n",
              "      flex-wrap:wrap;\n",
              "      gap: 12px;\n",
              "    }\n",
              "\n",
              "    .colab-df-convert {\n",
              "      background-color: #E8F0FE;\n",
              "      border: none;\n",
              "      border-radius: 50%;\n",
              "      cursor: pointer;\n",
              "      display: none;\n",
              "      fill: #1967D2;\n",
              "      height: 32px;\n",
              "      padding: 0 0 0 0;\n",
              "      width: 32px;\n",
              "    }\n",
              "\n",
              "    .colab-df-convert:hover {\n",
              "      background-color: #E2EBFA;\n",
              "      box-shadow: 0px 1px 2px rgba(60, 64, 67, 0.3), 0px 1px 3px 1px rgba(60, 64, 67, 0.15);\n",
              "      fill: #174EA6;\n",
              "    }\n",
              "\n",
              "    [theme=dark] .colab-df-convert {\n",
              "      background-color: #3B4455;\n",
              "      fill: #D2E3FC;\n",
              "    }\n",
              "\n",
              "    [theme=dark] .colab-df-convert:hover {\n",
              "      background-color: #434B5C;\n",
              "      box-shadow: 0px 1px 3px 1px rgba(0, 0, 0, 0.15);\n",
              "      filter: drop-shadow(0px 1px 2px rgba(0, 0, 0, 0.3));\n",
              "      fill: #FFFFFF;\n",
              "    }\n",
              "  </style>\n",
              "\n",
              "      <script>\n",
              "        const buttonEl =\n",
              "          document.querySelector('#df-bcd25ee9-db8c-427d-8f70-9d6954eceb6c button.colab-df-convert');\n",
              "        buttonEl.style.display =\n",
              "          google.colab.kernel.accessAllowed ? 'block' : 'none';\n",
              "\n",
              "        async function convertToInteractive(key) {\n",
              "          const element = document.querySelector('#df-bcd25ee9-db8c-427d-8f70-9d6954eceb6c');\n",
              "          const dataTable =\n",
              "            await google.colab.kernel.invokeFunction('convertToInteractive',\n",
              "                                                     [key], {});\n",
              "          if (!dataTable) return;\n",
              "\n",
              "          const docLinkHtml = 'Like what you see? Visit the ' +\n",
              "            '<a target=\"_blank\" href=https://colab.research.google.com/notebooks/data_table.ipynb>data table notebook</a>'\n",
              "            + ' to learn more about interactive tables.';\n",
              "          element.innerHTML = '';\n",
              "          dataTable['output_type'] = 'display_data';\n",
              "          await google.colab.output.renderOutput(dataTable, element);\n",
              "          const docLink = document.createElement('div');\n",
              "          docLink.innerHTML = docLinkHtml;\n",
              "          element.appendChild(docLink);\n",
              "        }\n",
              "      </script>\n",
              "    </div>\n",
              "  </div>\n",
              "  "
            ]
          },
          "metadata": {},
          "execution_count": 261
        }
      ]
    },
    {
      "cell_type": "code",
      "source": [
        "#самая низкая средняя стоимость\n",
        "locality_pivot_table[locality_pivot_table['mean'] == locality_pivot_table['mean'].min()]"
      ],
      "metadata": {
        "colab": {
          "base_uri": "https://localhost:8080/",
          "height": 0
        },
        "id": "dNNlUFka3DGH",
        "outputId": "670cecce-7f25-43a6-9279-0f1760777983"
      },
      "execution_count": 262,
      "outputs": [
        {
          "output_type": "execute_result",
          "data": {
            "text/plain": [
              "               count          mean\n",
              "locality_name                     \n",
              "выборг           234  58190.128008"
            ],
            "text/html": [
              "\n",
              "  <div id=\"df-e0603f5a-e7bc-48c6-80da-cb3b95488311\">\n",
              "    <div class=\"colab-df-container\">\n",
              "      <div>\n",
              "<style scoped>\n",
              "    .dataframe tbody tr th:only-of-type {\n",
              "        vertical-align: middle;\n",
              "    }\n",
              "\n",
              "    .dataframe tbody tr th {\n",
              "        vertical-align: top;\n",
              "    }\n",
              "\n",
              "    .dataframe thead th {\n",
              "        text-align: right;\n",
              "    }\n",
              "</style>\n",
              "<table border=\"1\" class=\"dataframe\">\n",
              "  <thead>\n",
              "    <tr style=\"text-align: right;\">\n",
              "      <th></th>\n",
              "      <th>count</th>\n",
              "      <th>mean</th>\n",
              "    </tr>\n",
              "    <tr>\n",
              "      <th>locality_name</th>\n",
              "      <th></th>\n",
              "      <th></th>\n",
              "    </tr>\n",
              "  </thead>\n",
              "  <tbody>\n",
              "    <tr>\n",
              "      <th>выборг</th>\n",
              "      <td>234</td>\n",
              "      <td>58190.128008</td>\n",
              "    </tr>\n",
              "  </tbody>\n",
              "</table>\n",
              "</div>\n",
              "      <button class=\"colab-df-convert\" onclick=\"convertToInteractive('df-e0603f5a-e7bc-48c6-80da-cb3b95488311')\"\n",
              "              title=\"Convert this dataframe to an interactive table.\"\n",
              "              style=\"display:none;\">\n",
              "        \n",
              "  <svg xmlns=\"http://www.w3.org/2000/svg\" height=\"24px\"viewBox=\"0 0 24 24\"\n",
              "       width=\"24px\">\n",
              "    <path d=\"M0 0h24v24H0V0z\" fill=\"none\"/>\n",
              "    <path d=\"M18.56 5.44l.94 2.06.94-2.06 2.06-.94-2.06-.94-.94-2.06-.94 2.06-2.06.94zm-11 1L8.5 8.5l.94-2.06 2.06-.94-2.06-.94L8.5 2.5l-.94 2.06-2.06.94zm10 10l.94 2.06.94-2.06 2.06-.94-2.06-.94-.94-2.06-.94 2.06-2.06.94z\"/><path d=\"M17.41 7.96l-1.37-1.37c-.4-.4-.92-.59-1.43-.59-.52 0-1.04.2-1.43.59L10.3 9.45l-7.72 7.72c-.78.78-.78 2.05 0 2.83L4 21.41c.39.39.9.59 1.41.59.51 0 1.02-.2 1.41-.59l7.78-7.78 2.81-2.81c.8-.78.8-2.07 0-2.86zM5.41 20L4 18.59l7.72-7.72 1.47 1.35L5.41 20z\"/>\n",
              "  </svg>\n",
              "      </button>\n",
              "      \n",
              "  <style>\n",
              "    .colab-df-container {\n",
              "      display:flex;\n",
              "      flex-wrap:wrap;\n",
              "      gap: 12px;\n",
              "    }\n",
              "\n",
              "    .colab-df-convert {\n",
              "      background-color: #E8F0FE;\n",
              "      border: none;\n",
              "      border-radius: 50%;\n",
              "      cursor: pointer;\n",
              "      display: none;\n",
              "      fill: #1967D2;\n",
              "      height: 32px;\n",
              "      padding: 0 0 0 0;\n",
              "      width: 32px;\n",
              "    }\n",
              "\n",
              "    .colab-df-convert:hover {\n",
              "      background-color: #E2EBFA;\n",
              "      box-shadow: 0px 1px 2px rgba(60, 64, 67, 0.3), 0px 1px 3px 1px rgba(60, 64, 67, 0.15);\n",
              "      fill: #174EA6;\n",
              "    }\n",
              "\n",
              "    [theme=dark] .colab-df-convert {\n",
              "      background-color: #3B4455;\n",
              "      fill: #D2E3FC;\n",
              "    }\n",
              "\n",
              "    [theme=dark] .colab-df-convert:hover {\n",
              "      background-color: #434B5C;\n",
              "      box-shadow: 0px 1px 3px 1px rgba(0, 0, 0, 0.15);\n",
              "      filter: drop-shadow(0px 1px 2px rgba(0, 0, 0, 0.3));\n",
              "      fill: #FFFFFF;\n",
              "    }\n",
              "  </style>\n",
              "\n",
              "      <script>\n",
              "        const buttonEl =\n",
              "          document.querySelector('#df-e0603f5a-e7bc-48c6-80da-cb3b95488311 button.colab-df-convert');\n",
              "        buttonEl.style.display =\n",
              "          google.colab.kernel.accessAllowed ? 'block' : 'none';\n",
              "\n",
              "        async function convertToInteractive(key) {\n",
              "          const element = document.querySelector('#df-e0603f5a-e7bc-48c6-80da-cb3b95488311');\n",
              "          const dataTable =\n",
              "            await google.colab.kernel.invokeFunction('convertToInteractive',\n",
              "                                                     [key], {});\n",
              "          if (!dataTable) return;\n",
              "\n",
              "          const docLinkHtml = 'Like what you see? Visit the ' +\n",
              "            '<a target=\"_blank\" href=https://colab.research.google.com/notebooks/data_table.ipynb>data table notebook</a>'\n",
              "            + ' to learn more about interactive tables.';\n",
              "          element.innerHTML = '';\n",
              "          dataTable['output_type'] = 'display_data';\n",
              "          await google.colab.output.renderOutput(dataTable, element);\n",
              "          const docLink = document.createElement('div');\n",
              "          docLink.innerHTML = docLinkHtml;\n",
              "          element.appendChild(docLink);\n",
              "        }\n",
              "      </script>\n",
              "    </div>\n",
              "  </div>\n",
              "  "
            ]
          },
          "metadata": {},
          "execution_count": 262
        }
      ]
    },
    {
      "cell_type": "markdown",
      "source": [
        "## Посчитаем среднюю цену каждого километра\n"
      ],
      "metadata": {
        "id": "E50kmEwW36Cl"
      }
    },
    {
      "cell_type": "code",
      "source": [
        "# Построим гистограмму по удалению от центра\n",
        "data[data['locality_name'] == 'санкт-петербург'].pivot_table(index='city_centers_nearest_km',values='last_price',aggfunc='mean').plot(kind='bar')\n",
        "plt.show()"
      ],
      "metadata": {
        "colab": {
          "base_uri": "https://localhost:8080/",
          "height": 0
        },
        "id": "8vbk4IoqTIJB",
        "outputId": "10cdea27-6f11-4fd2-a026-28786c42fae8"
      },
      "execution_count": 263,
      "outputs": [
        {
          "output_type": "display_data",
          "data": {
            "text/plain": [
              "<Figure size 432x288 with 1 Axes>"
            ],
            "image/png": "[encoded data removed]"
          },
          "metadata": {
            "needs_background": "light"
          }
        }
      ]
    },
    {
      "cell_type": "markdown",
      "source": [
        "## Вывод\n",
        "Чем ближе к центру города, тем дороже стоимость.\n",
        "Причем в самом центре стоимость значительно выше чем в удалении на 1 километр от него. Растояние до 8 километров остается значимым для стоимости жилья, после чего перестает оказывать влияние на стоимость"
      ],
      "metadata": {
        "id": "ZOKY-fS4rXY4"
      }
    },
    {
      "cell_type": "markdown",
      "source": [
        "# Общий вывод"
      ],
      "metadata": {
        "id": "-hxT-BzfrZUL"
      }
    },
    {
      "cell_type": "markdown",
      "source": [
        "Проведя исследование мы выяснили что:\n",
        "- Пропуски. \n",
        "Среди пропущенных значений присутствуют как имеющие человеческий фактор причины, где пользователь не указал данные например о жилой площади, либо о высоте потолков. Так и причины имеющие технический характер, на что указывает одинаковый процент пропусков в \"расстояние до ближайшего аэропорта\", \"расстояние до центра города\", \"число парков в радиусе 3 км\", \"число водоёмов в радиусе 3 км\" в количестве 23% и \"расстояние до ближайшего парка\", \" расстояние до ближайшего водоёма\" в количестве превышающем 60% - такие пропуски вероятно вызваны растоянием превышающим какое-то значение, после которого система пропускает и не указывает его.\n",
        "- Уникальные значения в основном были заполнены корректно, поиск дубликатов и их обработка сократили уникальный список  на 41 значение.\n",
        "- Редкие и выбивающиеся значения были выявленны в нескольких столбцах, при построениее сводной таблицы где за индексы были взяты количество комнат, а значения цена на момент снятия и общая площадь, прослеживалась взаимосвязь между всеми этими данными. Соответственно при удалении выбивающихся значений из одного столбца, они сокращали такие же редкие значения и в других смежных столбцах. От этого наш анализ стал более информативным, например это повлияло на график зависимости стоимости объекта от количества комнат.\n",
        "- Исследовательский анализ показал что на общую стоимость влияет площадь объекта, а так как площадь объекта это и площадь кухни и жилая площадь, то соответственно и эти показатели влияют на стоимость, хоть и в меньшей степени. Количество комнат оказывает большее влияние на стоимость, чем площадь кухни.\n",
        "- Сильное влияние оказывает на стоимость объектов в Санкт-Петербурге растояние до центра города и непосредственно нахождение в радиусе до 1 км.\n",
        "\n"
      ],
      "metadata": {
        "id": "PFu3ONX-remU"
      }
    }
  ]
}